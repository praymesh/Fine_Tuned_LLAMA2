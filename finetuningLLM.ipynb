{
  "cells": [
    {
      "cell_type": "markdown",
      "metadata": {
        "id": "v_ndjOVyBqOu"
      },
      "source": [
        "## Installing necessary packages (this is google colab environment)"
      ]
    },
    {
      "cell_type": "code",
      "source": [
        "\n",
        "!pip install -q accelerate peft transformers trl datasets"
      ],
      "metadata": {
        "id": "EOAGt46qfc3e"
      },
      "execution_count": 1,
      "outputs": []
    },
    {
      "cell_type": "code",
      "source": [
        "!pip install bitsandbytes"
      ],
      "metadata": {
        "colab": {
          "base_uri": "https://localhost:8080/"
        },
        "id": "lhjpSKAU6oiO",
        "outputId": "bb03b619-cec5-499a-e987-ed90ee51150b"
      },
      "execution_count": 2,
      "outputs": [
        {
          "output_type": "stream",
          "name": "stdout",
          "text": [
            "Requirement already satisfied: bitsandbytes in /usr/local/lib/python3.11/dist-packages (0.45.3)\n",
            "Requirement already satisfied: torch<3,>=2.0 in /usr/local/lib/python3.11/dist-packages (from bitsandbytes) (2.6.0+cu124)\n",
            "Requirement already satisfied: numpy>=1.17 in /usr/local/lib/python3.11/dist-packages (from bitsandbytes) (1.26.4)\n",
            "Requirement already satisfied: filelock in /usr/local/lib/python3.11/dist-packages (from torch<3,>=2.0->bitsandbytes) (3.17.0)\n",
            "Requirement already satisfied: typing-extensions>=4.10.0 in /usr/local/lib/python3.11/dist-packages (from torch<3,>=2.0->bitsandbytes) (4.12.2)\n",
            "Requirement already satisfied: networkx in /usr/local/lib/python3.11/dist-packages (from torch<3,>=2.0->bitsandbytes) (3.4.2)\n",
            "Requirement already satisfied: jinja2 in /usr/local/lib/python3.11/dist-packages (from torch<3,>=2.0->bitsandbytes) (3.1.6)\n",
            "Requirement already satisfied: fsspec in /usr/local/lib/python3.11/dist-packages (from torch<3,>=2.0->bitsandbytes) (2024.10.0)\n",
            "Requirement already satisfied: nvidia-cuda-nvrtc-cu12==12.4.127 in /usr/local/lib/python3.11/dist-packages (from torch<3,>=2.0->bitsandbytes) (12.4.127)\n",
            "Requirement already satisfied: nvidia-cuda-runtime-cu12==12.4.127 in /usr/local/lib/python3.11/dist-packages (from torch<3,>=2.0->bitsandbytes) (12.4.127)\n",
            "Requirement already satisfied: nvidia-cuda-cupti-cu12==12.4.127 in /usr/local/lib/python3.11/dist-packages (from torch<3,>=2.0->bitsandbytes) (12.4.127)\n",
            "Requirement already satisfied: nvidia-cudnn-cu12==9.1.0.70 in /usr/local/lib/python3.11/dist-packages (from torch<3,>=2.0->bitsandbytes) (9.1.0.70)\n",
            "Requirement already satisfied: nvidia-cublas-cu12==12.4.5.8 in /usr/local/lib/python3.11/dist-packages (from torch<3,>=2.0->bitsandbytes) (12.4.5.8)\n",
            "Requirement already satisfied: nvidia-cufft-cu12==11.2.1.3 in /usr/local/lib/python3.11/dist-packages (from torch<3,>=2.0->bitsandbytes) (11.2.1.3)\n",
            "Requirement already satisfied: nvidia-curand-cu12==10.3.5.147 in /usr/local/lib/python3.11/dist-packages (from torch<3,>=2.0->bitsandbytes) (10.3.5.147)\n",
            "Requirement already satisfied: nvidia-cusolver-cu12==11.6.1.9 in /usr/local/lib/python3.11/dist-packages (from torch<3,>=2.0->bitsandbytes) (11.6.1.9)\n",
            "Requirement already satisfied: nvidia-cusparse-cu12==12.3.1.170 in /usr/local/lib/python3.11/dist-packages (from torch<3,>=2.0->bitsandbytes) (12.3.1.170)\n",
            "Requirement already satisfied: nvidia-cusparselt-cu12==0.6.2 in /usr/local/lib/python3.11/dist-packages (from torch<3,>=2.0->bitsandbytes) (0.6.2)\n",
            "Requirement already satisfied: nvidia-nccl-cu12==2.21.5 in /usr/local/lib/python3.11/dist-packages (from torch<3,>=2.0->bitsandbytes) (2.21.5)\n",
            "Requirement already satisfied: nvidia-nvtx-cu12==12.4.127 in /usr/local/lib/python3.11/dist-packages (from torch<3,>=2.0->bitsandbytes) (12.4.127)\n",
            "Requirement already satisfied: nvidia-nvjitlink-cu12==12.4.127 in /usr/local/lib/python3.11/dist-packages (from torch<3,>=2.0->bitsandbytes) (12.4.127)\n",
            "Requirement already satisfied: triton==3.2.0 in /usr/local/lib/python3.11/dist-packages (from torch<3,>=2.0->bitsandbytes) (3.2.0)\n",
            "Requirement already satisfied: sympy==1.13.1 in /usr/local/lib/python3.11/dist-packages (from torch<3,>=2.0->bitsandbytes) (1.13.1)\n",
            "Requirement already satisfied: mpmath<1.4,>=1.1.0 in /usr/local/lib/python3.11/dist-packages (from sympy==1.13.1->torch<3,>=2.0->bitsandbytes) (1.3.0)\n",
            "Requirement already satisfied: MarkupSafe>=2.0 in /usr/local/lib/python3.11/dist-packages (from jinja2->torch<3,>=2.0->bitsandbytes) (3.0.2)\n"
          ]
        }
      ]
    },
    {
      "cell_type": "code",
      "source": [
        "!pip install bitsandbytes==0.41.1 #Google Colab comes with CUDA 12.4, bitsandbytes 0.41.1 (compatible with CUDA 12)"
      ],
      "metadata": {
        "colab": {
          "base_uri": "https://localhost:8080/"
        },
        "id": "wEdBtCtTFf4L",
        "outputId": "ad9f2efd-0d99-4396-8b79-fa4a709595cb"
      },
      "execution_count": 2,
      "outputs": [
        {
          "output_type": "stream",
          "name": "stdout",
          "text": [
            "Collecting bitsandbytes==0.41.1\n",
            "  Downloading bitsandbytes-0.41.1-py3-none-any.whl.metadata (9.8 kB)\n",
            "Downloading bitsandbytes-0.41.1-py3-none-any.whl (92.6 MB)\n",
            "\u001b[2K   \u001b[90m━━━━━━━━━━━━━━━━━━━━━━━━━━━━━━━━━━━━━━━━\u001b[0m \u001b[32m92.6/92.6 MB\u001b[0m \u001b[31m7.8 MB/s\u001b[0m eta \u001b[36m0:00:00\u001b[0m\n",
            "\u001b[?25hInstalling collected packages: bitsandbytes\n",
            "Successfully installed bitsandbytes-0.41.1\n"
          ]
        }
      ]
    },
    {
      "cell_type": "code",
      "execution_count": null,
      "metadata": {
        "colab": {
          "base_uri": "https://localhost:8080/"
        },
        "id": "5QXFGmznBqOv",
        "outputId": "c5ffdb97-dadc-4cef-f827-343fae9de729"
      },
      "outputs": [
        {
          "output_type": "stream",
          "name": "stdout",
          "text": [
            "\u001b[31mERROR: pip's dependency resolver does not currently take into account all the packages that are installed. This behaviour is the source of the following dependency conflicts.\n",
            "trl 0.15.2 requires accelerate>=0.34.0, but you have accelerate 0.21.0 which is incompatible.\u001b[0m\u001b[31m\n",
            "\u001b[0m"
          ]
        }
      ],
      "source": [
        "#%pip install -q accelerate==0.21.0 peft==0.4.0 bitsandbytes==0.40.2 #transformers==4.48.3"
      ]
    },
    {
      "cell_type": "markdown",
      "metadata": {
        "id": "za1JcaixBqOw"
      },
      "source": [
        "## Importing Necessary Libraries"
      ]
    },
    {
      "cell_type": "code",
      "execution_count": 3,
      "metadata": {
        "id": "zlMhP9ucxA54"
      },
      "outputs": [],
      "source": [
        "import os\n",
        "import numpy\n",
        "import pandas\n",
        "import torch\n",
        "from datasets import load_dataset\n",
        "from transformers import(\n",
        "    AutoModelForCausalLM, #pretrained causal language model\n",
        "    AutoTokenizer,\n",
        "    BitsAndBytesConfig, #for configuring quantization\n",
        "    HfArgumentParser, #cmd arguments\n",
        "    TrainingArguments,\n",
        "    pipeline,\n",
        "    logging,\n",
        "    GenerationConfig,\n",
        ")\n",
        "from peft import LoraConfig, PeftModel # Parameter efficient fine tuning and Low rank Adpation\n",
        "from trl.trainer.sft_trainer import SFTTrainer #Supevised Fine tuning-SFT\n",
        "\n"
      ]
    },
    {
      "cell_type": "code",
      "source": [
        "\n",
        "# Checking for CUDA availability\n",
        "if torch.cuda.is_available():\n",
        "    device = torch.device(\"cuda\")\n",
        "    print(\"Using CUDA device:\", torch.cuda.get_device_name(0))\n",
        "else:\n",
        "    device = torch.device(\"cpu\")\n",
        "    print(\"CUDA is not available, using CPU instead.\")\n",
        "\n",
        "\n"
      ],
      "metadata": {
        "colab": {
          "base_uri": "https://localhost:8080/"
        },
        "id": "yWmRNKv-xt-B",
        "outputId": "ef561e17-71ae-4b4c-c6d3-3ca05d640ee4"
      },
      "execution_count": 4,
      "outputs": [
        {
          "output_type": "stream",
          "name": "stdout",
          "text": [
            "Using CUDA device: Tesla T4\n"
          ]
        }
      ]
    },
    {
      "cell_type": "markdown",
      "metadata": {
        "id": "HHJvcHlbUPNt"
      },
      "source": [
        "# We need data for fine tuning LLama2\n",
        "LLama2 requires data to be of a specific prompt template(for chat models) :\n",
        "![image.png](data:image/png;base64,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)"
      ]
    },
    {
      "cell_type": "markdown",
      "source": [
        "We will reformat our instruction dataset to follow Llama 2 template.\n",
        "Orignal Dataset: https://huggingface.co/datasets/LDJnr/Puffin.\n",
        "\n",
        "We will Reformat Dataset following the Llama 2 template:\n"
      ],
      "metadata": {
        "id": "q9KIFJdG-WE7"
      }
    },
    {
      "cell_type": "code",
      "source": [
        "!pip install datasets"
      ],
      "metadata": {
        "colab": {
          "base_uri": "https://localhost:8080/"
        },
        "id": "AKJopGlA3x4o",
        "outputId": "8d185681-ecfe-474e-81d0-028a060cd0ca"
      },
      "execution_count": null,
      "outputs": [
        {
          "output_type": "stream",
          "name": "stdout",
          "text": [
            "Collecting datasets\n",
            "  Downloading datasets-3.3.2-py3-none-any.whl.metadata (19 kB)\n",
            "Requirement already satisfied: filelock in /usr/local/lib/python3.11/dist-packages (from datasets) (3.17.0)\n",
            "Requirement already satisfied: numpy>=1.17 in /usr/local/lib/python3.11/dist-packages (from datasets) (1.26.4)\n",
            "Requirement already satisfied: pyarrow>=15.0.0 in /usr/local/lib/python3.11/dist-packages (from datasets) (18.1.0)\n",
            "Collecting dill<0.3.9,>=0.3.0 (from datasets)\n",
            "  Downloading dill-0.3.8-py3-none-any.whl.metadata (10 kB)\n",
            "Requirement already satisfied: pandas in /usr/local/lib/python3.11/dist-packages (from datasets) (2.2.2)\n",
            "Requirement already satisfied: requests>=2.32.2 in /usr/local/lib/python3.11/dist-packages (from datasets) (2.32.3)\n",
            "Requirement already satisfied: tqdm>=4.66.3 in /usr/local/lib/python3.11/dist-packages (from datasets) (4.67.1)\n",
            "Collecting xxhash (from datasets)\n",
            "  Downloading xxhash-3.5.0-cp311-cp311-manylinux_2_17_x86_64.manylinux2014_x86_64.whl.metadata (12 kB)\n",
            "Collecting multiprocess<0.70.17 (from datasets)\n",
            "  Downloading multiprocess-0.70.16-py311-none-any.whl.metadata (7.2 kB)\n",
            "Requirement already satisfied: fsspec<=2024.12.0,>=2023.1.0 in /usr/local/lib/python3.11/dist-packages (from fsspec[http]<=2024.12.0,>=2023.1.0->datasets) (2024.10.0)\n",
            "Requirement already satisfied: aiohttp in /usr/local/lib/python3.11/dist-packages (from datasets) (3.11.13)\n",
            "Requirement already satisfied: huggingface-hub>=0.24.0 in /usr/local/lib/python3.11/dist-packages (from datasets) (0.28.1)\n",
            "Requirement already satisfied: packaging in /usr/local/lib/python3.11/dist-packages (from datasets) (24.2)\n",
            "Requirement already satisfied: pyyaml>=5.1 in /usr/local/lib/python3.11/dist-packages (from datasets) (6.0.2)\n",
            "Requirement already satisfied: aiohappyeyeballs>=2.3.0 in /usr/local/lib/python3.11/dist-packages (from aiohttp->datasets) (2.5.0)\n",
            "Requirement already satisfied: aiosignal>=1.1.2 in /usr/local/lib/python3.11/dist-packages (from aiohttp->datasets) (1.3.2)\n",
            "Requirement already satisfied: attrs>=17.3.0 in /usr/local/lib/python3.11/dist-packages (from aiohttp->datasets) (25.1.0)\n",
            "Requirement already satisfied: frozenlist>=1.1.1 in /usr/local/lib/python3.11/dist-packages (from aiohttp->datasets) (1.5.0)\n",
            "Requirement already satisfied: multidict<7.0,>=4.5 in /usr/local/lib/python3.11/dist-packages (from aiohttp->datasets) (6.1.0)\n",
            "Requirement already satisfied: propcache>=0.2.0 in /usr/local/lib/python3.11/dist-packages (from aiohttp->datasets) (0.3.0)\n",
            "Requirement already satisfied: yarl<2.0,>=1.17.0 in /usr/local/lib/python3.11/dist-packages (from aiohttp->datasets) (1.18.3)\n",
            "Requirement already satisfied: typing-extensions>=3.7.4.3 in /usr/local/lib/python3.11/dist-packages (from huggingface-hub>=0.24.0->datasets) (4.12.2)\n",
            "Requirement already satisfied: charset-normalizer<4,>=2 in /usr/local/lib/python3.11/dist-packages (from requests>=2.32.2->datasets) (3.4.1)\n",
            "Requirement already satisfied: idna<4,>=2.5 in /usr/local/lib/python3.11/dist-packages (from requests>=2.32.2->datasets) (3.10)\n",
            "Requirement already satisfied: urllib3<3,>=1.21.1 in /usr/local/lib/python3.11/dist-packages (from requests>=2.32.2->datasets) (2.3.0)\n",
            "Requirement already satisfied: certifi>=2017.4.17 in /usr/local/lib/python3.11/dist-packages (from requests>=2.32.2->datasets) (2025.1.31)\n",
            "Requirement already satisfied: python-dateutil>=2.8.2 in /usr/local/lib/python3.11/dist-packages (from pandas->datasets) (2.8.2)\n",
            "Requirement already satisfied: pytz>=2020.1 in /usr/local/lib/python3.11/dist-packages (from pandas->datasets) (2025.1)\n",
            "Requirement already satisfied: tzdata>=2022.7 in /usr/local/lib/python3.11/dist-packages (from pandas->datasets) (2025.1)\n",
            "Requirement already satisfied: six>=1.5 in /usr/local/lib/python3.11/dist-packages (from python-dateutil>=2.8.2->pandas->datasets) (1.17.0)\n",
            "Downloading datasets-3.3.2-py3-none-any.whl (485 kB)\n",
            "\u001b[2K   \u001b[90m━━━━━━━━━━━━━━━━━━━━━━━━━━━━━━━━━━━━━━━━\u001b[0m \u001b[32m485.4/485.4 kB\u001b[0m \u001b[31m9.1 MB/s\u001b[0m eta \u001b[36m0:00:00\u001b[0m\n",
            "\u001b[?25hDownloading dill-0.3.8-py3-none-any.whl (116 kB)\n",
            "\u001b[2K   \u001b[90m━━━━━━━━━━━━━━━━━━━━━━━━━━━━━━━━━━━━━━━━\u001b[0m \u001b[32m116.3/116.3 kB\u001b[0m \u001b[31m6.4 MB/s\u001b[0m eta \u001b[36m0:00:00\u001b[0m\n",
            "\u001b[?25hDownloading multiprocess-0.70.16-py311-none-any.whl (143 kB)\n",
            "\u001b[2K   \u001b[90m━━━━━━━━━━━━━━━━━━━━━━━━━━━━━━━━━━━━━━━━\u001b[0m \u001b[32m143.5/143.5 kB\u001b[0m \u001b[31m8.9 MB/s\u001b[0m eta \u001b[36m0:00:00\u001b[0m\n",
            "\u001b[?25hDownloading xxhash-3.5.0-cp311-cp311-manylinux_2_17_x86_64.manylinux2014_x86_64.whl (194 kB)\n",
            "\u001b[2K   \u001b[90m━━━━━━━━━━━━━━━━━━━━━━━━━━━━━━━━━━━━━━━━\u001b[0m \u001b[32m194.8/194.8 kB\u001b[0m \u001b[31m12.0 MB/s\u001b[0m eta \u001b[36m0:00:00\u001b[0m\n",
            "\u001b[?25hInstalling collected packages: xxhash, dill, multiprocess, datasets\n",
            "Successfully installed datasets-3.3.2 dill-0.3.8 multiprocess-0.70.16 xxhash-3.5.0\n"
          ]
        }
      ]
    },
    {
      "cell_type": "code",
      "source": [
        "from datasets import load_dataset\n",
        "import json\n",
        "dataset = load_dataset('LDJnr/Puffin')\n",
        "#print(dataset)\n",
        "dataset_list = (dataset)[\"train\"]\n",
        "print(dataset_list)\n",
        "\n",
        "\n"
      ],
      "metadata": {
        "colab": {
          "base_uri": "https://localhost:8080/"
        },
        "id": "C50UUxdE_d14",
        "outputId": "d97de3cd-e4a8-462b-fdd1-c9db88c9f647"
      },
      "execution_count": null,
      "outputs": [
        {
          "output_type": "stream",
          "name": "stdout",
          "text": [
            "Dataset({\n",
            "    features: ['id', 'conversations'],\n",
            "    num_rows: 3000\n",
            "})\n"
          ]
        }
      ]
    },
    {
      "cell_type": "code",
      "source": [
        "dataset_list[0]"
      ],
      "metadata": {
        "colab": {
          "base_uri": "https://localhost:8080/"
        },
        "collapsed": true,
        "id": "3ujOZHq-yYhs",
        "outputId": "e7861275-570f-4390-a5bd-19000f75d94b"
      },
      "execution_count": null,
      "outputs": [
        {
          "output_type": "execute_result",
          "data": {
            "text/plain": [
              "{'id': 1,\n",
              " 'conversations': [{'from': 'human',\n",
              "   'value': 'How do I center a text element vertically in a row in jetpack compose? The height of the row is determined by a button next to the text element.'},\n",
              "  {'from': 'gpt',\n",
              "   'value': 'In Jetpack Compose, you can center a text element vertically within a row by using the `Arrangement.Center` parameter for the `verticalAlignment` property in the `Row` composable. Here\\'s an example:\\n```kotlin\\nimport androidx.compose.foundation.layout.Arrangement\\nimport androidx.compose.foundation.layout.Row\\nimport androidx.compose.material.Button\\nimport androidx.compose.material.Text\\nimport androidx.compose.runtime.Composable\\nimport androidx.compose.ui.Alignment\\n\\n@Composable\\nfun CenteredTextWithButton() {\\n    Row(\\n        verticalAlignment = Alignment.CenterVertically\\n    ) {\\n        Text(\"Centered Text\")\\n        Button(onClick = { /* Do something on button click */ }) {\\n            Text(\"Button\")\\n        }\\n    }\\n}\\n```\\nIn this example, the `Text` element will be centered vertically in the `Row`, and the height of the row will be determined by the `Button`.'},\n",
              "  {'from': 'human',\n",
              "   'value': 'Add some spacing between the text and the button'},\n",
              "  {'from': 'gpt',\n",
              "   'value': 'To add spacing between the `Text` and `Button` elements within the `Row`, you can use the `Spacer` composable along with a specific width. Here\\'s an updated version of the previous example with added spacing:\\n```kotlin\\nimport androidx.compose.foundation.layout.Arrangement\\nimport androidx.compose.foundation.layout.Row\\nimport androidx.compose.foundation.layout.Spacer\\nimport androidx.compose.foundation.layout.width\\nimport androidx.compose.material.Button\\nimport androidx.compose.material.Text\\nimport androidx.compose.runtime.Composable\\nimport androidx.compose.ui.Alignment\\nimport androidx.compose.ui.Modifier\\nimport androidx.compose.ui.unit.dp\\n\\n@Composable\\nfun CenteredTextWithButton() {\\n    Row(\\n        verticalAlignment = Alignment.CenterVertically\\n    ) {\\n        Text(\"Centered Text\")\\n        Spacer(modifier = Modifier.width(16.dp)) // Add 16 dp of spacing\\n        Button(onClick = { /* Do something on button click */ }) {\\n            Text(\"Button\")\\n        }\\n    }\\n}\\n```\\nIn this example, we\\'ve added a `Spacer` with a width of 16 dp between the `Text` and `Button` elements. You can adjust the width value according to your desired spacing.'},\n",
              "  {'from': 'human',\n",
              "   'value': 'Instead of using a spacer how do I give some padding to the text element instead?'},\n",
              "  {'from': 'gpt',\n",
              "   'value': 'You can add padding to the `Text` element by using the `Modifier.padding()` function. Here\\'s an example with padding added to the `Text` element instead of using a `Spacer`:\\n```kotlin\\nimport androidx.compose.foundation.layout.Arrangement\\nimport androidx.compose.foundation.layout.Row\\nimport androidx.compose.material.Button\\nimport androidx.compose.material.Text\\nimport androidx.compose.runtime.Composable\\nimport androidx.compose.ui.Alignment\\nimport androidx.compose.ui.Modifier\\nimport androidx.compose.ui.unit.dp\\n\\n@Composable\\nfun CenteredTextWithButton() {\\n    Row(\\n        verticalAlignment = Alignment.CenterVertically\\n    ) {\\n        Text(\\n            \"Centered Text\",\\n            modifier = Modifier.padding(end = 16.dp) // Add 16 dp of padding to the end (right) side of the text\\n        )\\n        Button(onClick = { /* Do something on button click */ }) {\\n            Text(\"Button\")\\n        }\\n    }\\n}\\n```\\nIn this example, we\\'ve added 16 dp of padding to the end (right) side of the `Text` element, which creates space between the `Text` and the `Button`. You can adjust the padding value as needed.'}]}"
            ]
          },
          "metadata": {},
          "execution_count": 5
        }
      ]
    },
    {
      "cell_type": "code",
      "source": [
        "# Function to transform the dataset\n",
        "def transform_dataset(example_dataset):\n",
        "    transformed_dataset = []\n",
        "    for item in example_dataset:\n",
        "        conversations = item[\"conversations\"]\n",
        "        formatted_conversation = \"\"\n",
        "        for i in range(0, len(conversations)-1, 2):\n",
        "            instruction = conversations[i][\"value\"] #Getting the instruction(odd index)\n",
        "            response = conversations[i + 1][\"value\"]  #Getting the response(even index)\n",
        "            formatted_conversation += f\"<s>[INST] {instruction} [/INST] {response} </s>\\n\"\n",
        "        transformed_dataset.append(formatted_conversation.strip())\n",
        "    return transformed_dataset\n",
        "\n",
        "# Transform the dataset\n",
        "transformed_dataset = transform_dataset(dataset_list)\n",
        "\n",
        "# Save the transformed dataset to a text file\n",
        "output_file = \"transformed_dataset.txt\"\n",
        "with open(output_file, \"w\") as f:\n",
        "    for conversation in transformed_dataset:\n",
        "        f.write(conversation + \"\\n\\n\")\n",
        "\n",
        "Explanation:print(f\"Dataset transformed and saved to {output_file}\")\n"
      ],
      "metadata": {
        "colab": {
          "base_uri": "https://localhost:8080/"
        },
        "id": "q23HoX5R_0Oc",
        "outputId": "0833f947-62f4-4e12-d0cf-de9cb3145bab"
      },
      "execution_count": null,
      "outputs": [
        {
          "output_type": "stream",
          "name": "stdout",
          "text": [
            "Dataset transformed and saved to transformed_dataset.txt\n"
          ]
        }
      ]
    },
    {
      "cell_type": "code",
      "source": [
        "print(transformed_dataset[0])"
      ],
      "metadata": {
        "colab": {
          "base_uri": "https://localhost:8080/"
        },
        "id": "utA0tFRj_z5o",
        "outputId": "d0bc1dc9-efa0-4d1d-b19d-8e19cd613643"
      },
      "execution_count": null,
      "outputs": [
        {
          "output_type": "stream",
          "name": "stdout",
          "text": [
            "<s>[INST] How do I center a text element vertically in a row in jetpack compose? The height of the row is determined by a button next to the text element. [/INST] In Jetpack Compose, you can center a text element vertically within a row by using the `Arrangement.Center` parameter for the `verticalAlignment` property in the `Row` composable. Here's an example:\n",
            "```kotlin\n",
            "import androidx.compose.foundation.layout.Arrangement\n",
            "import androidx.compose.foundation.layout.Row\n",
            "import androidx.compose.material.Button\n",
            "import androidx.compose.material.Text\n",
            "import androidx.compose.runtime.Composable\n",
            "import androidx.compose.ui.Alignment\n",
            "\n",
            "@Composable\n",
            "fun CenteredTextWithButton() {\n",
            "    Row(\n",
            "        verticalAlignment = Alignment.CenterVertically\n",
            "    ) {\n",
            "        Text(\"Centered Text\")\n",
            "        Button(onClick = { /* Do something on button click */ }) {\n",
            "            Text(\"Button\")\n",
            "        }\n",
            "    }\n",
            "}\n",
            "```\n",
            "In this example, the `Text` element will be centered vertically in the `Row`, and the height of the row will be determined by the `Button`. </s>\n",
            "<s>[INST] Add some spacing between the text and the button [/INST] To add spacing between the `Text` and `Button` elements within the `Row`, you can use the `Spacer` composable along with a specific width. Here's an updated version of the previous example with added spacing:\n",
            "```kotlin\n",
            "import androidx.compose.foundation.layout.Arrangement\n",
            "import androidx.compose.foundation.layout.Row\n",
            "import androidx.compose.foundation.layout.Spacer\n",
            "import androidx.compose.foundation.layout.width\n",
            "import androidx.compose.material.Button\n",
            "import androidx.compose.material.Text\n",
            "import androidx.compose.runtime.Composable\n",
            "import androidx.compose.ui.Alignment\n",
            "import androidx.compose.ui.Modifier\n",
            "import androidx.compose.ui.unit.dp\n",
            "\n",
            "@Composable\n",
            "fun CenteredTextWithButton() {\n",
            "    Row(\n",
            "        verticalAlignment = Alignment.CenterVertically\n",
            "    ) {\n",
            "        Text(\"Centered Text\")\n",
            "        Spacer(modifier = Modifier.width(16.dp)) // Add 16 dp of spacing\n",
            "        Button(onClick = { /* Do something on button click */ }) {\n",
            "            Text(\"Button\")\n",
            "        }\n",
            "    }\n",
            "}\n",
            "```\n",
            "In this example, we've added a `Spacer` with a width of 16 dp between the `Text` and `Button` elements. You can adjust the width value according to your desired spacing. </s>\n",
            "<s>[INST] Instead of using a spacer how do I give some padding to the text element instead? [/INST] You can add padding to the `Text` element by using the `Modifier.padding()` function. Here's an example with padding added to the `Text` element instead of using a `Spacer`:\n",
            "```kotlin\n",
            "import androidx.compose.foundation.layout.Arrangement\n",
            "import androidx.compose.foundation.layout.Row\n",
            "import androidx.compose.material.Button\n",
            "import androidx.compose.material.Text\n",
            "import androidx.compose.runtime.Composable\n",
            "import androidx.compose.ui.Alignment\n",
            "import androidx.compose.ui.Modifier\n",
            "import androidx.compose.ui.unit.dp\n",
            "\n",
            "@Composable\n",
            "fun CenteredTextWithButton() {\n",
            "    Row(\n",
            "        verticalAlignment = Alignment.CenterVertically\n",
            "    ) {\n",
            "        Text(\n",
            "            \"Centered Text\",\n",
            "            modifier = Modifier.padding(end = 16.dp) // Add 16 dp of padding to the end (right) side of the text\n",
            "        )\n",
            "        Button(onClick = { /* Do something on button click */ }) {\n",
            "            Text(\"Button\")\n",
            "        }\n",
            "    }\n",
            "}\n",
            "```\n",
            "In this example, we've added 16 dp of padding to the end (right) side of the `Text` element, which creates space between the `Text` and the `Button`. You can adjust the padding value as needed. </s>\n"
          ]
        }
      ]
    },
    {
      "cell_type": "code",
      "source": [
        "from google.colab import drive\n",
        "drive.mount('/content/drive')"
      ],
      "metadata": {
        "colab": {
          "base_uri": "https://localhost:8080/"
        },
        "id": "CxtpkBnSPL8I",
        "outputId": "bfeabceb-93c6-4ca5-d226-dcf6cc949f31"
      },
      "execution_count": 5,
      "outputs": [
        {
          "output_type": "stream",
          "name": "stdout",
          "text": [
            "Mounted at /content/drive\n"
          ]
        }
      ]
    },
    {
      "cell_type": "code",
      "source": [
        "\n",
        "output_file = \"/content/drive/My Drive/llama2_dataset/transformed_dataset.txt\"\n",
        "\n",
        "with open(output_file, \"w\") as f:\n",
        "    for conversation in transformed_dataset:\n",
        "        f.write(conversation + \"\\n\\n\")\n",
        "\n",
        "print(f\"Dataset transformed and saved to Google Drive at {output_file}\")\n",
        "\n"
      ],
      "metadata": {
        "id": "sdwj5RVuRFgM",
        "colab": {
          "base_uri": "https://localhost:8080/"
        },
        "outputId": "2622bb69-83bc-4f4f-da24-d955ee4b3ab4"
      },
      "execution_count": null,
      "outputs": [
        {
          "output_type": "stream",
          "name": "stdout",
          "text": [
            "Dataset transformed and saved to Google Drive at /content/drive/My Drive/llama2_dataset/transformed_dataset.txt\n"
          ]
        }
      ]
    },
    {
      "cell_type": "code",
      "source": [
        "from google.colab import files\n",
        "files.download(\"transformed_dataset.txt\")\n"
      ],
      "metadata": {
        "id": "cn6yHMf7FBsE",
        "outputId": "ed8d1ea7-f13d-45b6-9c42-ffc0e5e49fa6",
        "colab": {
          "base_uri": "https://localhost:8080/",
          "height": 17
        }
      },
      "execution_count": null,
      "outputs": [
        {
          "output_type": "display_data",
          "data": {
            "text/plain": [
              "<IPython.core.display.Javascript object>"
            ],
            "application/javascript": [
              "\n",
              "    async function download(id, filename, size) {\n",
              "      if (!google.colab.kernel.accessAllowed) {\n",
              "        return;\n",
              "      }\n",
              "      const div = document.createElement('div');\n",
              "      const label = document.createElement('label');\n",
              "      label.textContent = `Downloading \"${filename}\": `;\n",
              "      div.appendChild(label);\n",
              "      const progress = document.createElement('progress');\n",
              "      progress.max = size;\n",
              "      div.appendChild(progress);\n",
              "      document.body.appendChild(div);\n",
              "\n",
              "      const buffers = [];\n",
              "      let downloaded = 0;\n",
              "\n",
              "      const channel = await google.colab.kernel.comms.open(id);\n",
              "      // Send a message to notify the kernel that we're ready.\n",
              "      channel.send({})\n",
              "\n",
              "      for await (const message of channel.messages) {\n",
              "        // Send a message to notify the kernel that we're ready.\n",
              "        channel.send({})\n",
              "        if (message.buffers) {\n",
              "          for (const buffer of message.buffers) {\n",
              "            buffers.push(buffer);\n",
              "            downloaded += buffer.byteLength;\n",
              "            progress.value = downloaded;\n",
              "          }\n",
              "        }\n",
              "      }\n",
              "      const blob = new Blob(buffers, {type: 'application/binary'});\n",
              "      const a = document.createElement('a');\n",
              "      a.href = window.URL.createObjectURL(blob);\n",
              "      a.download = filename;\n",
              "      div.appendChild(a);\n",
              "      a.click();\n",
              "      div.remove();\n",
              "    }\n",
              "  "
            ]
          },
          "metadata": {}
        },
        {
          "output_type": "display_data",
          "data": {
            "text/plain": [
              "<IPython.core.display.Javascript object>"
            ],
            "application/javascript": [
              "download(\"download_03dab696-5647-45b8-aa59-df89fac73d31\", \"transformed_dataset.txt\", 13738176)"
            ]
          },
          "metadata": {}
        }
      ]
    },
    {
      "cell_type": "code",
      "source": [
        " !pip install huggingface_hub\n",
        "from huggingface_hub import notebook_login\n",
        "\n",
        "notebook_login()"
      ],
      "metadata": {
        "colab": {
          "base_uri": "https://localhost:8080/",
          "height": 225,
          "referenced_widgets": [
            "ede5acfbc41e4435baa537d86ec52711",
            "e5a9fd6686c54789bdc06b6c6956385c",
            "732eaf5a85da415f99b75d21a30df6e8",
            "cfbf2007c1634e8bbcae809886088e5e",
            "dc7f2e246b9a426ab6e8f63d1e06e042",
            "1cece8b9d7234e118f0a1bd7b60e25c1",
            "bc2c1a2a069b4a52b98690532b4f52bf",
            "fc4b289ff9cc41c79391a9f70c3ffb1d",
            "c5068a7ae1eb4efa8226247d96f51f30",
            "5d9e213544fd4e1f976afbc817983851",
            "f5b51a3566bd41b395be02802f1e6e48",
            "b69a3fe955e04835ada144cd40f0a0fc",
            "3d71764213614f29ac338b3532246119",
            "4f426dcbba284c1c892636a4a432b1da",
            "0dcec12ba6534f2eb0de0027ceddb6b0",
            "662a7a58ab96417790da2ffe8bc7c646",
            "99785e42a38340849e512a6087963471",
            "eff47fb712154f04b7b06414241f562e",
            "a93ddf32eb804d80bbe4c2e1de2aa45d",
            "8f2fe6466fd743878055aa442359c3b7"
          ]
        },
        "id": "xW71YFVWPSrN",
        "outputId": "049e0fb9-29ff-4347-c56b-4435f1922132"
      },
      "execution_count": 6,
      "outputs": [
        {
          "output_type": "stream",
          "name": "stdout",
          "text": [
            "Requirement already satisfied: huggingface_hub in /usr/local/lib/python3.11/dist-packages (0.28.1)\n",
            "Requirement already satisfied: filelock in /usr/local/lib/python3.11/dist-packages (from huggingface_hub) (3.17.0)\n",
            "Requirement already satisfied: fsspec>=2023.5.0 in /usr/local/lib/python3.11/dist-packages (from huggingface_hub) (2024.10.0)\n",
            "Requirement already satisfied: packaging>=20.9 in /usr/local/lib/python3.11/dist-packages (from huggingface_hub) (24.2)\n",
            "Requirement already satisfied: pyyaml>=5.1 in /usr/local/lib/python3.11/dist-packages (from huggingface_hub) (6.0.2)\n",
            "Requirement already satisfied: requests in /usr/local/lib/python3.11/dist-packages (from huggingface_hub) (2.32.3)\n",
            "Requirement already satisfied: tqdm>=4.42.1 in /usr/local/lib/python3.11/dist-packages (from huggingface_hub) (4.67.1)\n",
            "Requirement already satisfied: typing-extensions>=3.7.4.3 in /usr/local/lib/python3.11/dist-packages (from huggingface_hub) (4.12.2)\n",
            "Requirement already satisfied: charset-normalizer<4,>=2 in /usr/local/lib/python3.11/dist-packages (from requests->huggingface_hub) (3.4.1)\n",
            "Requirement already satisfied: idna<4,>=2.5 in /usr/local/lib/python3.11/dist-packages (from requests->huggingface_hub) (3.10)\n",
            "Requirement already satisfied: urllib3<3,>=1.21.1 in /usr/local/lib/python3.11/dist-packages (from requests->huggingface_hub) (2.3.0)\n",
            "Requirement already satisfied: certifi>=2017.4.17 in /usr/local/lib/python3.11/dist-packages (from requests->huggingface_hub) (2025.1.31)\n"
          ]
        },
        {
          "output_type": "display_data",
          "data": {
            "text/plain": [
              "VBox(children=(HTML(value='<center> <img\\nsrc=https://huggingface.co/front/assets/huggingface_logo-noborder.sv…"
            ],
            "application/vnd.jupyter.widget-view+json": {
              "version_major": 2,
              "version_minor": 0,
              "model_id": "ede5acfbc41e4435baa537d86ec52711"
            }
          },
          "metadata": {}
        }
      ]
    },
    {
      "cell_type": "code",
      "source": [],
      "metadata": {
        "id": "7vSNPW635SZ3"
      },
      "execution_count": null,
      "outputs": []
    },
    {
      "cell_type": "code",
      "source": [
        "#!pip install git+https://github.com/TimDettmers/bitsandbytes.git"
      ],
      "metadata": {
        "id": "mXRvwKFdiBTW"
      },
      "execution_count": null,
      "outputs": []
    },
    {
      "cell_type": "markdown",
      "source": [
        "# Data setup"
      ],
      "metadata": {
        "id": "_HokgT3jetBg"
      }
    },
    {
      "cell_type": "code",
      "source": [
        "output_file = \"/content/drive/My Drive/llama2_dataset/transformed_dataset.txt\"\n",
        "with open(output_file, \"r\") as f:\n",
        "    dataset = f.readlines()  # Read line-by-line\n",
        "\n",
        "print(dataset[0])"
      ],
      "metadata": {
        "id": "H30MT_2WfAbA",
        "colab": {
          "base_uri": "https://localhost:8080/"
        },
        "outputId": "d67edb74-e30a-4d82-dc6e-8206d7e3d6a7"
      },
      "execution_count": 4,
      "outputs": [
        {
          "output_type": "stream",
          "name": "stdout",
          "text": [
            "<s>[INST] How do I center a text element vertically in a row in jetpack compose? The height of the row is determined by a button next to the text element. [/INST] In Jetpack Compose, you can center a text element vertically within a row by using the `Arrangement.Center` parameter for the `verticalAlignment` property in the `Row` composable. Here's an example:\n",
            "\n"
          ]
        }
      ]
    },
    {
      "cell_type": "markdown",
      "source": [
        "# Loading The Model,then we have to apply some preprocessing to the model to prepare it for training. For that use the **prepare_model_for_kbit_training method** from PEFT."
      ],
      "metadata": {
        "id": "SLTgBxcnj-SO"
      }
    },
    {
      "cell_type": "code",
      "source": [
        "!pip uninstall bitsandbytes"
      ],
      "metadata": {
        "id": "0_rRbqu-6Avu"
      },
      "execution_count": null,
      "outputs": []
    },
    {
      "cell_type": "code",
      "source": [
        "model_one = \"meta-llama/Llama-2-7b-chat-hf\" #accessed via meta on Huggingface : model_id = \"meta-llama/Llama-2-13b-chat-hf\"\n",
        "\n",
        "bnb_config = BitsAndBytesConfig(\n",
        "    load_in_4bit=True,\n",
        "    bnb_4bit_use_double_quant=True,\n",
        "    bnb_4bit_quant_type=\"nf4\",\n",
        "    bnb_4bit_compute_dtype=torch.bfloat16\n",
        ")\n",
        "tokenizer = AutoTokenizer.from_pretrained(model_one)\n",
        "model = AutoModelForCausalLM.from_pretrained(model_one, quantization_config=bnb_config, device_map={\"\":0})"
      ],
      "metadata": {
        "colab": {
          "base_uri": "https://localhost:8080/",
          "height": 177,
          "referenced_widgets": [
            "6568e5e76e3b4274a3371a949b9b2c24",
            "1c740742c528450f87727eb1d23e1911",
            "5d8a18b64e684637a056c5fc512f4a8b",
            "dbd14079457a4aab97cb4be015aa9fd8",
            "e0bd38a3f5514b5183036ac6903977b6",
            "9002974ed05a41c08b87fbbd3b28e307",
            "cf2b986c53b0417c9bd14e0be492791f",
            "fafff8a81dd746f9a8b58707dd54b52a",
            "a854819bed8d4234a9b2b4ad451f9a9b",
            "1c46c3b3242f4c30ae6af90785eb7489",
            "dfb4f945eb7d493589da36b695eb3d77",
            "dad96c0dea09462f80b2f8cb2fa95680",
            "57982814693d48098d49a9242aa1d0d1",
            "e841f391592647ebb86c7eaa4fbdeab4",
            "a1a508fc37b54cfb82939d61b81a1f91",
            "9f95e537a2374183a75eeb0bd5b4b7df",
            "d10c1340dd664f12bc3c01aebc3c7a42",
            "b4c0daf00fa34e94ba8cd9a7b166f369",
            "69e5b1ea10e14c2e8fa9894a32c2479a",
            "faa7bb1c45f64fcfb4e2398da1360779",
            "8495cf052d2a4a55bae081eea0c7f971",
            "7aab1ba4c01f467f84dc3228f88ad10f",
            "21ff3f9e718e41e4ae492ab5388ff392",
            "91fd6668da044998b8056501c8855596",
            "833ca5d26546459e82d28aabad566bed",
            "56813f78378a4f9898ec2a8de9a2a03a",
            "d086966b03c94377b71d7d9856779345",
            "f3e649ecf9d74a4381005868c4e5ef9c",
            "33ed20fa64f54cb48b726141c377a347",
            "b597ca0bc8924db5b37185479a3d8115",
            "1bedee1f4bdf44e1b7f981a6f09e94e2",
            "41b239dabf844419aba37d9a8574359d",
            "991dac21529e456c9165f64f155c5b59",
            "f07b4e4ec7cc4a288f94f3c7186da294",
            "dc2f25df026941f6b2d5769025e101f7",
            "76cf91f966e74304b49dd0a8378eaf37",
            "8f8d53f02c3c42559d0c1baa12a3052f",
            "1e45d3a2dcb44256bff14c707f3e29c7",
            "4cb0a7abee594ef6a5d396e77f9e2e9b",
            "f74d19a3c56e444b87331c183ccfcada",
            "e53d45c1dd864a99b3e3005ded723e3b",
            "d436f3e11ba04e0b8e28fb15d1bf15e4",
            "f4b46003a8a54e69934cbbf7470950db",
            "2574e65f4b1644c5a8e42cfadba3b1b5",
            "637b3c89fe9743219f1a80765ecae92a",
            "deefc188855b42b1819115fc32733da4",
            "0e25a2430ec945d899eae55b108e29b4",
            "0331f726b78f42b8bba35e2b773b77c6",
            "9d009345e6f3414c86e4ae03431dc94a",
            "53550954e3854c4bb5eacbc864d290e0",
            "929afbfdd7a24095a55aa2592d7651b9",
            "832dfebc4dc2415987be44fc88f67182",
            "d4fe4429f4784790a715a78de60c7e39",
            "9e69a9655f9b40aa9f7fbf074e50c4a4",
            "1f95a957255c4f0f9ba54eff7d12a629"
          ]
        },
        "id": "9nT1g28IWhHg",
        "outputId": "681c51ca-00da-4351-fb89-f1a57ea1617d"
      },
      "execution_count": 7,
      "outputs": [
        {
          "output_type": "display_data",
          "data": {
            "text/plain": [
              "Downloading shards:   0%|          | 0/2 [00:00<?, ?it/s]"
            ],
            "application/vnd.jupyter.widget-view+json": {
              "version_major": 2,
              "version_minor": 0,
              "model_id": "6568e5e76e3b4274a3371a949b9b2c24"
            }
          },
          "metadata": {}
        },
        {
          "output_type": "display_data",
          "data": {
            "text/plain": [
              "model-00001-of-00002.safetensors:  53%|#####3    | 5.33G/9.98G [00:00<?, ?B/s]"
            ],
            "application/vnd.jupyter.widget-view+json": {
              "version_major": 2,
              "version_minor": 0,
              "model_id": "dad96c0dea09462f80b2f8cb2fa95680"
            }
          },
          "metadata": {}
        },
        {
          "output_type": "display_data",
          "data": {
            "text/plain": [
              "model-00002-of-00002.safetensors:   0%|          | 0.00/3.50G [00:00<?, ?B/s]"
            ],
            "application/vnd.jupyter.widget-view+json": {
              "version_major": 2,
              "version_minor": 0,
              "model_id": "21ff3f9e718e41e4ae492ab5388ff392"
            }
          },
          "metadata": {}
        },
        {
          "output_type": "display_data",
          "data": {
            "text/plain": [
              "Loading checkpoint shards:   0%|          | 0/2 [00:00<?, ?it/s]"
            ],
            "application/vnd.jupyter.widget-view+json": {
              "version_major": 2,
              "version_minor": 0,
              "model_id": "f07b4e4ec7cc4a288f94f3c7186da294"
            }
          },
          "metadata": {}
        },
        {
          "output_type": "display_data",
          "data": {
            "text/plain": [
              "generation_config.json:   0%|          | 0.00/188 [00:00<?, ?B/s]"
            ],
            "application/vnd.jupyter.widget-view+json": {
              "version_major": 2,
              "version_minor": 0,
              "model_id": "637b3c89fe9743219f1a80765ecae92a"
            }
          },
          "metadata": {}
        }
      ]
    },
    {
      "cell_type": "code",
      "source": [
        "from peft import prepare_model_for_kbit_training\n",
        "\n",
        "model.gradient_checkpointing_enable()\n",
        "model = prepare_model_for_kbit_training(model)\n"
      ],
      "metadata": {
        "id": "1kteUTvHarz9"
      },
      "execution_count": 13,
      "outputs": []
    },
    {
      "cell_type": "markdown",
      "source": [
        "Checking for Total Params"
      ],
      "metadata": {
        "id": "3xlBZmCXkRq_"
      }
    },
    {
      "cell_type": "code",
      "source": [
        "def print_trainable_parameters(model):\n",
        "    #Prints the number of trainable parameters in the model.\n",
        "\n",
        "    trainable_params = 0\n",
        "    all_param = 0\n",
        "    for _, param in model.named_parameters(): # _ refers to param name(str) and pram is paramter itslef, which will be dealing with\n",
        "        all_param += param.numel() #.numel returns the total number of elements in the Model (trainable and non trainable)\n",
        "        if param.requires_grad: #checks if the parameter is trainable\n",
        "            trainable_params += param.numel()\n",
        "    print(f\"trainable params: {trainable_params} || all params: {all_param} || trainable%: {100 * trainable_params / all_param}\")"
      ],
      "metadata": {
        "id": "CQzTpXMN4hP-"
      },
      "execution_count": 17,
      "outputs": []
    },
    {
      "cell_type": "markdown",
      "source": [
        "LORA configuration"
      ],
      "metadata": {
        "id": "hprUEzUAk5UW"
      }
    },
    {
      "cell_type": "code",
      "source": [
        "from peft import LoraConfig, get_peft_model\n",
        "\n",
        "config = LoraConfig(\n",
        "    r=8, #since we have a smaller dataset, we choose LoRa rank =8\n",
        "    lora_alpha=32,\n",
        "    # target_modules=[\"query_key_value\"],\n",
        "    target_modules=[\"self_attn.q_proj\", \"self_attn.k_proj\", \"self_attn.v_proj\", \"self_attn.o_proj\"], #specific to Llama models.\n",
        "    lora_dropout=0.05,\n",
        "    bias=\"none\",\n",
        "    task_type=\"CAUSAL_LM\"\n",
        ")\n",
        "\n",
        "model = get_peft_model(model, config) # wraps the original model with LoRA\n",
        "print_trainable_parameters(model)"
      ],
      "metadata": {
        "id": "XdU0nNsR4lJc",
        "colab": {
          "base_uri": "https://localhost:8080/"
        },
        "outputId": "114400aa-afc4-4dd9-b09d-574c23a11137"
      },
      "execution_count": 15,
      "outputs": [
        {
          "output_type": "stream",
          "name": "stdout",
          "text": [
            "trainable params: 8388608 || all params: 3508801536 || trainable%: 0.23907331075678143\n"
          ]
        }
      ]
    },
    {
      "cell_type": "markdown",
      "source": [
        "# Training"
      ],
      "metadata": {
        "id": "CPZVC8Yok7EV"
      }
    },
    {
      "cell_type": "code",
      "source": [
        "#tokenizing the dataset\n",
        "data = dataset.map(lambda samples: tokenizer(samples[\"quote\"]), batched=True)\n",
        "dataset[0]"
      ],
      "metadata": {
        "id": "-zWDGv4EB91s",
        "outputId": "e414fcfa-c8b1-414b-a1dd-24cad816b066",
        "colab": {
          "base_uri": "https://localhost:8080/",
          "height": 176
        }
      },
      "execution_count": 20,
      "outputs": [
        {
          "output_type": "error",
          "ename": "AttributeError",
          "evalue": "'list' object has no attribute 'map'",
          "traceback": [
            "\u001b[0;31m---------------------------------------------------------------------------\u001b[0m",
            "\u001b[0;31mAttributeError\u001b[0m                            Traceback (most recent call last)",
            "\u001b[0;32m<ipython-input-20-875a430e67e5>\u001b[0m in \u001b[0;36m<cell line: 0>\u001b[0;34m()\u001b[0m\n\u001b[1;32m      1\u001b[0m \u001b[0;31m#tokenizing the dataset\u001b[0m\u001b[0;34m\u001b[0m\u001b[0;34m\u001b[0m\u001b[0m\n\u001b[0;32m----> 2\u001b[0;31m \u001b[0mdata\u001b[0m \u001b[0;34m=\u001b[0m \u001b[0mdataset\u001b[0m\u001b[0;34m.\u001b[0m\u001b[0mmap\u001b[0m\u001b[0;34m(\u001b[0m\u001b[0;32mlambda\u001b[0m \u001b[0msamples\u001b[0m\u001b[0;34m:\u001b[0m \u001b[0mtokenizer\u001b[0m\u001b[0;34m(\u001b[0m\u001b[0msamples\u001b[0m\u001b[0;34m[\u001b[0m\u001b[0;34m\"quote\"\u001b[0m\u001b[0;34m]\u001b[0m\u001b[0;34m)\u001b[0m\u001b[0;34m,\u001b[0m \u001b[0mbatched\u001b[0m\u001b[0;34m=\u001b[0m\u001b[0;32mTrue\u001b[0m\u001b[0;34m)\u001b[0m\u001b[0;34m\u001b[0m\u001b[0;34m\u001b[0m\u001b[0m\n\u001b[0m\u001b[1;32m      3\u001b[0m \u001b[0mdataset\u001b[0m\u001b[0;34m[\u001b[0m\u001b[0;36m0\u001b[0m\u001b[0;34m]\u001b[0m\u001b[0;34m\u001b[0m\u001b[0;34m\u001b[0m\u001b[0m\n",
            "\u001b[0;31mAttributeError\u001b[0m: 'list' object has no attribute 'map'"
          ]
        }
      ]
    },
    {
      "cell_type": "code",
      "source": [
        "# needed for Llama tokenizer\n",
        "import transformers\n",
        "tokenizer.pad_token = tokenizer.eos_token # </s>\n",
        "\n",
        "trainer = transformers.Trainer(\n",
        "    model=model,\n",
        "    train_dataset=dataset,\n",
        "    args=transformers.TrainingArguments(\n",
        "        per_device_train_batch_size=1,\n",
        "        gradient_accumulation_steps=4,\n",
        "        warmup_steps=2,\n",
        "        max_steps=10,\n",
        "        learning_rate=2e-4,\n",
        "        fp16=True,\n",
        "        logging_steps=1,\n",
        "        output_dir=\"outputs\",\n",
        "        optim=\"paged_adamw_8bit\"\n",
        "    ),\n",
        "    data_collator=transformers.DataCollatorForLanguageModeling(tokenizer, mlm=False),\n",
        ")\n",
        "model.config.use_cache = False  # silence the warnings. Please re-enable for inference!\n",
        "trainer.train()"
      ],
      "metadata": {
        "id": "MhihzWFzj0S3",
        "colab": {
          "base_uri": "https://localhost:8080/",
          "height": 619
        },
        "outputId": "44efd4fd-aad9-4c7d-82fa-20218209bcc1"
      },
      "execution_count": 19,
      "outputs": [
        {
          "output_type": "stream",
          "name": "stderr",
          "text": [
            "\u001b[34m\u001b[1mwandb\u001b[0m: \u001b[33mWARNING\u001b[0m The `run_name` is currently set to the same value as `TrainingArguments.output_dir`. If this was not intended, please specify a different run name by setting the `TrainingArguments.run_name` parameter.\n",
            "\u001b[34m\u001b[1mwandb\u001b[0m: Using wandb-core as the SDK backend.  Please refer to https://wandb.me/wandb-core for more information.\n"
          ]
        },
        {
          "output_type": "display_data",
          "data": {
            "text/plain": [
              "<IPython.core.display.Javascript object>"
            ],
            "application/javascript": [
              "\n",
              "        window._wandbApiKey = new Promise((resolve, reject) => {\n",
              "            function loadScript(url) {\n",
              "            return new Promise(function(resolve, reject) {\n",
              "                let newScript = document.createElement(\"script\");\n",
              "                newScript.onerror = reject;\n",
              "                newScript.onload = resolve;\n",
              "                document.body.appendChild(newScript);\n",
              "                newScript.src = url;\n",
              "            });\n",
              "            }\n",
              "            loadScript(\"https://cdn.jsdelivr.net/npm/postmate/build/postmate.min.js\").then(() => {\n",
              "            const iframe = document.createElement('iframe')\n",
              "            iframe.style.cssText = \"width:0;height:0;border:none\"\n",
              "            document.body.appendChild(iframe)\n",
              "            const handshake = new Postmate({\n",
              "                container: iframe,\n",
              "                url: 'https://wandb.ai/authorize'\n",
              "            });\n",
              "            const timeout = setTimeout(() => reject(\"Couldn't auto authenticate\"), 5000)\n",
              "            handshake.then(function(child) {\n",
              "                child.on('authorize', data => {\n",
              "                    clearTimeout(timeout)\n",
              "                    resolve(data)\n",
              "                });\n",
              "            });\n",
              "            })\n",
              "        });\n",
              "    "
            ]
          },
          "metadata": {}
        },
        {
          "output_type": "stream",
          "name": "stderr",
          "text": [
            "\u001b[34m\u001b[1mwandb\u001b[0m: Logging into wandb.ai. (Learn how to deploy a W&B server locally: https://wandb.me/wandb-server)\n",
            "\u001b[34m\u001b[1mwandb\u001b[0m: You can find your API key in your browser here: https://wandb.ai/authorize\n",
            "wandb: Paste an API key from your profile and hit enter:"
          ]
        },
        {
          "name": "stdout",
          "output_type": "stream",
          "text": [
            " ··········\n"
          ]
        },
        {
          "output_type": "stream",
          "name": "stderr",
          "text": [
            "\u001b[34m\u001b[1mwandb\u001b[0m: \u001b[33mWARNING\u001b[0m If you're specifying your api key in code, ensure this code is not shared publicly.\n",
            "\u001b[34m\u001b[1mwandb\u001b[0m: \u001b[33mWARNING\u001b[0m Consider setting the WANDB_API_KEY environment variable, or running `wandb login` from the command line.\n",
            "\u001b[34m\u001b[1mwandb\u001b[0m: No netrc file found, creating one.\n",
            "\u001b[34m\u001b[1mwandb\u001b[0m: Appending key for api.wandb.ai to your netrc file: /root/.netrc\n",
            "\u001b[34m\u001b[1mwandb\u001b[0m: Currently logged in as: \u001b[33mpranay23\u001b[0m (\u001b[33mbuilding-text\u001b[0m) to \u001b[32mhttps://api.wandb.ai\u001b[0m. Use \u001b[1m`wandb login --relogin`\u001b[0m to force relogin\n"
          ]
        },
        {
          "output_type": "display_data",
          "data": {
            "text/plain": [
              "<IPython.core.display.HTML object>"
            ],
            "text/html": [
              "Tracking run with wandb version 0.19.8"
            ]
          },
          "metadata": {}
        },
        {
          "output_type": "display_data",
          "data": {
            "text/plain": [
              "<IPython.core.display.HTML object>"
            ],
            "text/html": [
              "Run data is saved locally in <code>/content/wandb/run-20250315_132023-9zei72ao</code>"
            ]
          },
          "metadata": {}
        },
        {
          "output_type": "display_data",
          "data": {
            "text/plain": [
              "<IPython.core.display.HTML object>"
            ],
            "text/html": [
              "Syncing run <strong><a href='https://wandb.ai/building-text/huggingface/runs/9zei72ao' target=\"_blank\">outputs</a></strong> to <a href='https://wandb.ai/building-text/huggingface' target=\"_blank\">Weights & Biases</a> (<a href='https://wandb.me/developer-guide' target=\"_blank\">docs</a>)<br>"
            ]
          },
          "metadata": {}
        },
        {
          "output_type": "display_data",
          "data": {
            "text/plain": [
              "<IPython.core.display.HTML object>"
            ],
            "text/html": [
              " View project at <a href='https://wandb.ai/building-text/huggingface' target=\"_blank\">https://wandb.ai/building-text/huggingface</a>"
            ]
          },
          "metadata": {}
        },
        {
          "output_type": "display_data",
          "data": {
            "text/plain": [
              "<IPython.core.display.HTML object>"
            ],
            "text/html": [
              " View run at <a href='https://wandb.ai/building-text/huggingface/runs/9zei72ao' target=\"_blank\">https://wandb.ai/building-text/huggingface/runs/9zei72ao</a>"
            ]
          },
          "metadata": {}
        },
        {
          "output_type": "error",
          "ename": "AttributeError",
          "evalue": "'str' object has no attribute 'size'",
          "traceback": [
            "\u001b[0;31m---------------------------------------------------------------------------\u001b[0m",
            "\u001b[0;31mAttributeError\u001b[0m                            Traceback (most recent call last)",
            "\u001b[0;32m<ipython-input-19-c3f4acedac35>\u001b[0m in \u001b[0;36m<cell line: 0>\u001b[0;34m()\u001b[0m\n\u001b[1;32m     20\u001b[0m )\n\u001b[1;32m     21\u001b[0m \u001b[0mmodel\u001b[0m\u001b[0;34m.\u001b[0m\u001b[0mconfig\u001b[0m\u001b[0;34m.\u001b[0m\u001b[0muse_cache\u001b[0m \u001b[0;34m=\u001b[0m \u001b[0;32mFalse\u001b[0m  \u001b[0;31m# silence the warnings. Please re-enable for inference!\u001b[0m\u001b[0;34m\u001b[0m\u001b[0;34m\u001b[0m\u001b[0m\n\u001b[0;32m---> 22\u001b[0;31m \u001b[0mtrainer\u001b[0m\u001b[0;34m.\u001b[0m\u001b[0mtrain\u001b[0m\u001b[0;34m(\u001b[0m\u001b[0;34m)\u001b[0m\u001b[0;34m\u001b[0m\u001b[0;34m\u001b[0m\u001b[0m\n\u001b[0m",
            "\u001b[0;32m/usr/local/lib/python3.11/dist-packages/transformers/trainer.py\u001b[0m in \u001b[0;36mtrain\u001b[0;34m(self, resume_from_checkpoint, trial, ignore_keys_for_eval, **kwargs)\u001b[0m\n\u001b[1;32m   2169\u001b[0m                 \u001b[0mhf_hub_utils\u001b[0m\u001b[0;34m.\u001b[0m\u001b[0menable_progress_bars\u001b[0m\u001b[0;34m(\u001b[0m\u001b[0;34m)\u001b[0m\u001b[0;34m\u001b[0m\u001b[0;34m\u001b[0m\u001b[0m\n\u001b[1;32m   2170\u001b[0m         \u001b[0;32melse\u001b[0m\u001b[0;34m:\u001b[0m\u001b[0;34m\u001b[0m\u001b[0;34m\u001b[0m\u001b[0m\n\u001b[0;32m-> 2171\u001b[0;31m             return inner_training_loop(\n\u001b[0m\u001b[1;32m   2172\u001b[0m                 \u001b[0margs\u001b[0m\u001b[0;34m=\u001b[0m\u001b[0margs\u001b[0m\u001b[0;34m,\u001b[0m\u001b[0;34m\u001b[0m\u001b[0;34m\u001b[0m\u001b[0m\n\u001b[1;32m   2173\u001b[0m                 \u001b[0mresume_from_checkpoint\u001b[0m\u001b[0;34m=\u001b[0m\u001b[0mresume_from_checkpoint\u001b[0m\u001b[0;34m,\u001b[0m\u001b[0;34m\u001b[0m\u001b[0;34m\u001b[0m\u001b[0m\n",
            "\u001b[0;32m/usr/local/lib/python3.11/dist-packages/transformers/trainer.py\u001b[0m in \u001b[0;36m_inner_training_loop\u001b[0;34m(self, batch_size, args, resume_from_checkpoint, trial, ignore_keys_for_eval)\u001b[0m\n\u001b[1;32m   2478\u001b[0m                 \u001b[0mupdate_step\u001b[0m \u001b[0;34m+=\u001b[0m \u001b[0;36m1\u001b[0m\u001b[0;34m\u001b[0m\u001b[0;34m\u001b[0m\u001b[0m\n\u001b[1;32m   2479\u001b[0m                 \u001b[0mnum_batches\u001b[0m \u001b[0;34m=\u001b[0m \u001b[0margs\u001b[0m\u001b[0;34m.\u001b[0m\u001b[0mgradient_accumulation_steps\u001b[0m \u001b[0;32mif\u001b[0m \u001b[0mupdate_step\u001b[0m \u001b[0;34m!=\u001b[0m \u001b[0;34m(\u001b[0m\u001b[0mtotal_updates\u001b[0m \u001b[0;34m-\u001b[0m \u001b[0;36m1\u001b[0m\u001b[0;34m)\u001b[0m \u001b[0;32melse\u001b[0m \u001b[0mremainder\u001b[0m\u001b[0;34m\u001b[0m\u001b[0;34m\u001b[0m\u001b[0m\n\u001b[0;32m-> 2480\u001b[0;31m                 \u001b[0mbatch_samples\u001b[0m\u001b[0;34m,\u001b[0m \u001b[0mnum_items_in_batch\u001b[0m \u001b[0;34m=\u001b[0m \u001b[0mself\u001b[0m\u001b[0;34m.\u001b[0m\u001b[0mget_batch_samples\u001b[0m\u001b[0;34m(\u001b[0m\u001b[0mepoch_iterator\u001b[0m\u001b[0;34m,\u001b[0m \u001b[0mnum_batches\u001b[0m\u001b[0;34m)\u001b[0m\u001b[0;34m\u001b[0m\u001b[0;34m\u001b[0m\u001b[0m\n\u001b[0m\u001b[1;32m   2481\u001b[0m                 \u001b[0;32mfor\u001b[0m \u001b[0mi\u001b[0m\u001b[0;34m,\u001b[0m \u001b[0minputs\u001b[0m \u001b[0;32min\u001b[0m \u001b[0menumerate\u001b[0m\u001b[0;34m(\u001b[0m\u001b[0mbatch_samples\u001b[0m\u001b[0;34m)\u001b[0m\u001b[0;34m:\u001b[0m\u001b[0;34m\u001b[0m\u001b[0;34m\u001b[0m\u001b[0m\n\u001b[1;32m   2482\u001b[0m                     \u001b[0mstep\u001b[0m \u001b[0;34m+=\u001b[0m \u001b[0;36m1\u001b[0m\u001b[0;34m\u001b[0m\u001b[0;34m\u001b[0m\u001b[0m\n",
            "\u001b[0;32m/usr/local/lib/python3.11/dist-packages/transformers/trainer.py\u001b[0m in \u001b[0;36mget_batch_samples\u001b[0;34m(self, epoch_iterator, num_batches)\u001b[0m\n\u001b[1;32m   5151\u001b[0m         \u001b[0;32mfor\u001b[0m \u001b[0m_\u001b[0m \u001b[0;32min\u001b[0m \u001b[0mrange\u001b[0m\u001b[0;34m(\u001b[0m\u001b[0mnum_batches\u001b[0m\u001b[0;34m)\u001b[0m\u001b[0;34m:\u001b[0m\u001b[0;34m\u001b[0m\u001b[0;34m\u001b[0m\u001b[0m\n\u001b[1;32m   5152\u001b[0m             \u001b[0;32mtry\u001b[0m\u001b[0;34m:\u001b[0m\u001b[0;34m\u001b[0m\u001b[0;34m\u001b[0m\u001b[0m\n\u001b[0;32m-> 5153\u001b[0;31m                 \u001b[0mbatch_samples\u001b[0m \u001b[0;34m+=\u001b[0m \u001b[0;34m[\u001b[0m\u001b[0mnext\u001b[0m\u001b[0;34m(\u001b[0m\u001b[0mepoch_iterator\u001b[0m\u001b[0;34m)\u001b[0m\u001b[0;34m]\u001b[0m\u001b[0;34m\u001b[0m\u001b[0;34m\u001b[0m\u001b[0m\n\u001b[0m\u001b[1;32m   5154\u001b[0m             \u001b[0;32mexcept\u001b[0m \u001b[0mStopIteration\u001b[0m\u001b[0;34m:\u001b[0m\u001b[0;34m\u001b[0m\u001b[0;34m\u001b[0m\u001b[0m\n\u001b[1;32m   5155\u001b[0m                 \u001b[0;32mbreak\u001b[0m\u001b[0;34m\u001b[0m\u001b[0;34m\u001b[0m\u001b[0m\n",
            "\u001b[0;32m/usr/local/lib/python3.11/dist-packages/accelerate/data_loader.py\u001b[0m in \u001b[0;36m__iter__\u001b[0;34m(self)\u001b[0m\n\u001b[1;32m    561\u001b[0m         \u001b[0;31m# We iterate one batch ahead to check when we are at the end\u001b[0m\u001b[0;34m\u001b[0m\u001b[0;34m\u001b[0m\u001b[0m\n\u001b[1;32m    562\u001b[0m         \u001b[0;32mtry\u001b[0m\u001b[0;34m:\u001b[0m\u001b[0;34m\u001b[0m\u001b[0;34m\u001b[0m\u001b[0m\n\u001b[0;32m--> 563\u001b[0;31m             \u001b[0mcurrent_batch\u001b[0m \u001b[0;34m=\u001b[0m \u001b[0mnext\u001b[0m\u001b[0;34m(\u001b[0m\u001b[0mdataloader_iter\u001b[0m\u001b[0;34m)\u001b[0m\u001b[0;34m\u001b[0m\u001b[0;34m\u001b[0m\u001b[0m\n\u001b[0m\u001b[1;32m    564\u001b[0m         \u001b[0;32mexcept\u001b[0m \u001b[0mStopIteration\u001b[0m\u001b[0;34m:\u001b[0m\u001b[0;34m\u001b[0m\u001b[0;34m\u001b[0m\u001b[0m\n\u001b[1;32m    565\u001b[0m             \u001b[0;32myield\u001b[0m\u001b[0;34m\u001b[0m\u001b[0;34m\u001b[0m\u001b[0m\n",
            "\u001b[0;32m/usr/local/lib/python3.11/dist-packages/torch/utils/data/dataloader.py\u001b[0m in \u001b[0;36m__next__\u001b[0;34m(self)\u001b[0m\n\u001b[1;32m    706\u001b[0m                 \u001b[0;31m# TODO(https://github.com/pytorch/pytorch/issues/76750)\u001b[0m\u001b[0;34m\u001b[0m\u001b[0;34m\u001b[0m\u001b[0m\n\u001b[1;32m    707\u001b[0m                 \u001b[0mself\u001b[0m\u001b[0;34m.\u001b[0m\u001b[0m_reset\u001b[0m\u001b[0;34m(\u001b[0m\u001b[0;34m)\u001b[0m  \u001b[0;31m# type: ignore[call-arg]\u001b[0m\u001b[0;34m\u001b[0m\u001b[0;34m\u001b[0m\u001b[0m\n\u001b[0;32m--> 708\u001b[0;31m             \u001b[0mdata\u001b[0m \u001b[0;34m=\u001b[0m \u001b[0mself\u001b[0m\u001b[0;34m.\u001b[0m\u001b[0m_next_data\u001b[0m\u001b[0;34m(\u001b[0m\u001b[0;34m)\u001b[0m\u001b[0;34m\u001b[0m\u001b[0;34m\u001b[0m\u001b[0m\n\u001b[0m\u001b[1;32m    709\u001b[0m             \u001b[0mself\u001b[0m\u001b[0;34m.\u001b[0m\u001b[0m_num_yielded\u001b[0m \u001b[0;34m+=\u001b[0m \u001b[0;36m1\u001b[0m\u001b[0;34m\u001b[0m\u001b[0;34m\u001b[0m\u001b[0m\n\u001b[1;32m    710\u001b[0m             if (\n",
            "\u001b[0;32m/usr/local/lib/python3.11/dist-packages/torch/utils/data/dataloader.py\u001b[0m in \u001b[0;36m_next_data\u001b[0;34m(self)\u001b[0m\n\u001b[1;32m    762\u001b[0m     \u001b[0;32mdef\u001b[0m \u001b[0m_next_data\u001b[0m\u001b[0;34m(\u001b[0m\u001b[0mself\u001b[0m\u001b[0;34m)\u001b[0m\u001b[0;34m:\u001b[0m\u001b[0;34m\u001b[0m\u001b[0;34m\u001b[0m\u001b[0m\n\u001b[1;32m    763\u001b[0m         \u001b[0mindex\u001b[0m \u001b[0;34m=\u001b[0m \u001b[0mself\u001b[0m\u001b[0;34m.\u001b[0m\u001b[0m_next_index\u001b[0m\u001b[0;34m(\u001b[0m\u001b[0;34m)\u001b[0m  \u001b[0;31m# may raise StopIteration\u001b[0m\u001b[0;34m\u001b[0m\u001b[0;34m\u001b[0m\u001b[0m\n\u001b[0;32m--> 764\u001b[0;31m         \u001b[0mdata\u001b[0m \u001b[0;34m=\u001b[0m \u001b[0mself\u001b[0m\u001b[0;34m.\u001b[0m\u001b[0m_dataset_fetcher\u001b[0m\u001b[0;34m.\u001b[0m\u001b[0mfetch\u001b[0m\u001b[0;34m(\u001b[0m\u001b[0mindex\u001b[0m\u001b[0;34m)\u001b[0m  \u001b[0;31m# may raise StopIteration\u001b[0m\u001b[0;34m\u001b[0m\u001b[0;34m\u001b[0m\u001b[0m\n\u001b[0m\u001b[1;32m    765\u001b[0m         \u001b[0;32mif\u001b[0m \u001b[0mself\u001b[0m\u001b[0;34m.\u001b[0m\u001b[0m_pin_memory\u001b[0m\u001b[0;34m:\u001b[0m\u001b[0;34m\u001b[0m\u001b[0;34m\u001b[0m\u001b[0m\n\u001b[1;32m    766\u001b[0m             \u001b[0mdata\u001b[0m \u001b[0;34m=\u001b[0m \u001b[0m_utils\u001b[0m\u001b[0;34m.\u001b[0m\u001b[0mpin_memory\u001b[0m\u001b[0;34m.\u001b[0m\u001b[0mpin_memory\u001b[0m\u001b[0;34m(\u001b[0m\u001b[0mdata\u001b[0m\u001b[0;34m,\u001b[0m \u001b[0mself\u001b[0m\u001b[0;34m.\u001b[0m\u001b[0m_pin_memory_device\u001b[0m\u001b[0;34m)\u001b[0m\u001b[0;34m\u001b[0m\u001b[0;34m\u001b[0m\u001b[0m\n",
            "\u001b[0;32m/usr/local/lib/python3.11/dist-packages/torch/utils/data/_utils/fetch.py\u001b[0m in \u001b[0;36mfetch\u001b[0;34m(self, possibly_batched_index)\u001b[0m\n\u001b[1;32m     53\u001b[0m         \u001b[0;32melse\u001b[0m\u001b[0;34m:\u001b[0m\u001b[0;34m\u001b[0m\u001b[0;34m\u001b[0m\u001b[0m\n\u001b[1;32m     54\u001b[0m             \u001b[0mdata\u001b[0m \u001b[0;34m=\u001b[0m \u001b[0mself\u001b[0m\u001b[0;34m.\u001b[0m\u001b[0mdataset\u001b[0m\u001b[0;34m[\u001b[0m\u001b[0mpossibly_batched_index\u001b[0m\u001b[0;34m]\u001b[0m\u001b[0;34m\u001b[0m\u001b[0;34m\u001b[0m\u001b[0m\n\u001b[0;32m---> 55\u001b[0;31m         \u001b[0;32mreturn\u001b[0m \u001b[0mself\u001b[0m\u001b[0;34m.\u001b[0m\u001b[0mcollate_fn\u001b[0m\u001b[0;34m(\u001b[0m\u001b[0mdata\u001b[0m\u001b[0;34m)\u001b[0m\u001b[0;34m\u001b[0m\u001b[0;34m\u001b[0m\u001b[0m\n\u001b[0m",
            "\u001b[0;32m/usr/local/lib/python3.11/dist-packages/transformers/trainer_utils.py\u001b[0m in \u001b[0;36m__call__\u001b[0;34m(self, features)\u001b[0m\n\u001b[1;32m    846\u001b[0m     \u001b[0;32mdef\u001b[0m \u001b[0m__call__\u001b[0m\u001b[0;34m(\u001b[0m\u001b[0mself\u001b[0m\u001b[0;34m,\u001b[0m \u001b[0mfeatures\u001b[0m\u001b[0;34m:\u001b[0m \u001b[0mList\u001b[0m\u001b[0;34m[\u001b[0m\u001b[0mdict\u001b[0m\u001b[0;34m]\u001b[0m\u001b[0;34m)\u001b[0m\u001b[0;34m:\u001b[0m\u001b[0;34m\u001b[0m\u001b[0;34m\u001b[0m\u001b[0m\n\u001b[1;32m    847\u001b[0m         \u001b[0mfeatures\u001b[0m \u001b[0;34m=\u001b[0m \u001b[0;34m[\u001b[0m\u001b[0mself\u001b[0m\u001b[0;34m.\u001b[0m\u001b[0m_remove_columns\u001b[0m\u001b[0;34m(\u001b[0m\u001b[0mfeature\u001b[0m\u001b[0;34m)\u001b[0m \u001b[0;32mfor\u001b[0m \u001b[0mfeature\u001b[0m \u001b[0;32min\u001b[0m \u001b[0mfeatures\u001b[0m\u001b[0;34m]\u001b[0m\u001b[0;34m\u001b[0m\u001b[0;34m\u001b[0m\u001b[0m\n\u001b[0;32m--> 848\u001b[0;31m         \u001b[0;32mreturn\u001b[0m \u001b[0mself\u001b[0m\u001b[0;34m.\u001b[0m\u001b[0mdata_collator\u001b[0m\u001b[0;34m(\u001b[0m\u001b[0mfeatures\u001b[0m\u001b[0;34m)\u001b[0m\u001b[0;34m\u001b[0m\u001b[0;34m\u001b[0m\u001b[0m\n\u001b[0m\u001b[1;32m    849\u001b[0m \u001b[0;34m\u001b[0m\u001b[0m\n\u001b[1;32m    850\u001b[0m \u001b[0;34m\u001b[0m\u001b[0m\n",
            "\u001b[0;32m/usr/local/lib/python3.11/dist-packages/transformers/data/data_collator.py\u001b[0m in \u001b[0;36m__call__\u001b[0;34m(self, features, return_tensors)\u001b[0m\n\u001b[1;32m     43\u001b[0m             \u001b[0;32mreturn\u001b[0m \u001b[0mself\u001b[0m\u001b[0;34m.\u001b[0m\u001b[0mtf_call\u001b[0m\u001b[0;34m(\u001b[0m\u001b[0mfeatures\u001b[0m\u001b[0;34m)\u001b[0m\u001b[0;34m\u001b[0m\u001b[0;34m\u001b[0m\u001b[0m\n\u001b[1;32m     44\u001b[0m         \u001b[0;32melif\u001b[0m \u001b[0mreturn_tensors\u001b[0m \u001b[0;34m==\u001b[0m \u001b[0;34m\"pt\"\u001b[0m\u001b[0;34m:\u001b[0m\u001b[0;34m\u001b[0m\u001b[0;34m\u001b[0m\u001b[0m\n\u001b[0;32m---> 45\u001b[0;31m             \u001b[0;32mreturn\u001b[0m \u001b[0mself\u001b[0m\u001b[0;34m.\u001b[0m\u001b[0mtorch_call\u001b[0m\u001b[0;34m(\u001b[0m\u001b[0mfeatures\u001b[0m\u001b[0;34m)\u001b[0m\u001b[0;34m\u001b[0m\u001b[0;34m\u001b[0m\u001b[0m\n\u001b[0m\u001b[1;32m     46\u001b[0m         \u001b[0;32melif\u001b[0m \u001b[0mreturn_tensors\u001b[0m \u001b[0;34m==\u001b[0m \u001b[0;34m\"np\"\u001b[0m\u001b[0;34m:\u001b[0m\u001b[0;34m\u001b[0m\u001b[0;34m\u001b[0m\u001b[0m\n\u001b[1;32m     47\u001b[0m             \u001b[0;32mreturn\u001b[0m \u001b[0mself\u001b[0m\u001b[0;34m.\u001b[0m\u001b[0mnumpy_call\u001b[0m\u001b[0;34m(\u001b[0m\u001b[0mfeatures\u001b[0m\u001b[0;34m)\u001b[0m\u001b[0;34m\u001b[0m\u001b[0;34m\u001b[0m\u001b[0m\n",
            "\u001b[0;32m/usr/local/lib/python3.11/dist-packages/transformers/data/data_collator.py\u001b[0m in \u001b[0;36mtorch_call\u001b[0;34m(self, examples)\u001b[0m\n\u001b[1;32m    813\u001b[0m         \u001b[0;32melse\u001b[0m\u001b[0;34m:\u001b[0m\u001b[0;34m\u001b[0m\u001b[0;34m\u001b[0m\u001b[0m\n\u001b[1;32m    814\u001b[0m             batch = {\n\u001b[0;32m--> 815\u001b[0;31m                 \u001b[0;34m\"input_ids\"\u001b[0m\u001b[0;34m:\u001b[0m \u001b[0m_torch_collate_batch\u001b[0m\u001b[0;34m(\u001b[0m\u001b[0mexamples\u001b[0m\u001b[0;34m,\u001b[0m \u001b[0mself\u001b[0m\u001b[0;34m.\u001b[0m\u001b[0mtokenizer\u001b[0m\u001b[0;34m,\u001b[0m \u001b[0mpad_to_multiple_of\u001b[0m\u001b[0;34m=\u001b[0m\u001b[0mself\u001b[0m\u001b[0;34m.\u001b[0m\u001b[0mpad_to_multiple_of\u001b[0m\u001b[0;34m)\u001b[0m\u001b[0;34m\u001b[0m\u001b[0;34m\u001b[0m\u001b[0m\n\u001b[0m\u001b[1;32m    816\u001b[0m             }\n\u001b[1;32m    817\u001b[0m \u001b[0;34m\u001b[0m\u001b[0m\n",
            "\u001b[0;32m/usr/local/lib/python3.11/dist-packages/transformers/data/data_collator.py\u001b[0m in \u001b[0;36m_torch_collate_batch\u001b[0;34m(examples, tokenizer, pad_to_multiple_of)\u001b[0m\n\u001b[1;32m    434\u001b[0m         \u001b[0mexamples\u001b[0m \u001b[0;34m=\u001b[0m \u001b[0;34m[\u001b[0m\u001b[0mtorch\u001b[0m\u001b[0;34m.\u001b[0m\u001b[0mtensor\u001b[0m\u001b[0;34m(\u001b[0m\u001b[0me\u001b[0m\u001b[0;34m,\u001b[0m \u001b[0mdtype\u001b[0m\u001b[0;34m=\u001b[0m\u001b[0mtorch\u001b[0m\u001b[0;34m.\u001b[0m\u001b[0mlong\u001b[0m\u001b[0;34m)\u001b[0m \u001b[0;32mfor\u001b[0m \u001b[0me\u001b[0m \u001b[0;32min\u001b[0m \u001b[0mexamples\u001b[0m\u001b[0;34m]\u001b[0m\u001b[0;34m\u001b[0m\u001b[0;34m\u001b[0m\u001b[0m\n\u001b[1;32m    435\u001b[0m \u001b[0;34m\u001b[0m\u001b[0m\n\u001b[0;32m--> 436\u001b[0;31m     \u001b[0mlength_of_first\u001b[0m \u001b[0;34m=\u001b[0m \u001b[0mexamples\u001b[0m\u001b[0;34m[\u001b[0m\u001b[0;36m0\u001b[0m\u001b[0;34m]\u001b[0m\u001b[0;34m.\u001b[0m\u001b[0msize\u001b[0m\u001b[0;34m(\u001b[0m\u001b[0;36m0\u001b[0m\u001b[0;34m)\u001b[0m\u001b[0;34m\u001b[0m\u001b[0;34m\u001b[0m\u001b[0m\n\u001b[0m\u001b[1;32m    437\u001b[0m \u001b[0;34m\u001b[0m\u001b[0m\n\u001b[1;32m    438\u001b[0m     \u001b[0;31m# Check if padding is necessary.\u001b[0m\u001b[0;34m\u001b[0m\u001b[0;34m\u001b[0m\u001b[0m\n",
            "\u001b[0;31mAttributeError\u001b[0m: 'str' object has no attribute 'size'"
          ]
        }
      ]
    },
    {
      "cell_type": "markdown",
      "source": [
        "#Inference"
      ],
      "metadata": {
        "id": "oOZ_gopL1lhT"
      }
    },
    {
      "cell_type": "code",
      "source": [
        "from transformers import TextStreamer\n",
        "model.config.use_cache = True\n",
        "model.eval()"
      ],
      "metadata": {
        "id": "ZgbK3YwHlJoG"
      },
      "execution_count": null,
      "outputs": []
    },
    {
      "cell_type": "code",
      "source": [
        "# Define a stream *without* function calling capabilities\n",
        "def stream(user_prompt):\n",
        "    runtimeFlag = \"cuda:0\"\n",
        "    system_prompt = 'You are a helpful assistant that provides accurate and concise responses'\n",
        "\n",
        "    B_INST, E_INST = \"[INST]\", \"[/INST]\"\n",
        "    B_SYS, E_SYS = \"<<SYS>>\\n\", \"\\n<</SYS>>\\n\\n\"\n",
        "\n",
        "    prompt = f\"{B_INST} {B_SYS}{system_prompt.strip()}{E_SYS}{user_prompt.strip()} {E_INST}\\n\\n\"\n",
        "\n",
        "    inputs = tokenizer([prompt], return_tensors=\"pt\").to(runtimeFlag)\n",
        "\n",
        "    streamer = TextStreamer(tokenizer)\n",
        "\n",
        "    # Despite returning the usual output, the streamer will also print the generated text to stdout.\n",
        "    _ = model.generate(**inputs, streamer=streamer, max_new_tokens=500)"
      ],
      "metadata": {
        "id": "ymZvyBvs2KE6"
      },
      "execution_count": null,
      "outputs": []
    },
    {
      "cell_type": "code",
      "source": [
        "stream('Bro, explain me about fine tuning.')"
      ],
      "metadata": {
        "id": "cXVFNAM72PsF"
      },
      "execution_count": null,
      "outputs": []
    }
  ],
  "metadata": {
    "colab": {
      "name": "finetuningLLM",
      "provenance": [],
      "gpuType": "T4"
    },
    "kaggle": {
      "accelerator": "nvidiaTeslaT4",
      "dataSources": [],
      "dockerImageVersionId": 30839,
      "isGpuEnabled": true,
      "isInternetEnabled": true,
      "language": "python",
      "sourceType": "notebook"
    },
    "kernelspec": {
      "display_name": "Python 3",
      "name": "python3"
    },
    "language_info": {
      "codemirror_mode": {
        "name": "ipython",
        "version": 3
      },
      "file_extension": ".py",
      "mimetype": "text/x-python",
      "name": "python",
      "nbconvert_exporter": "python",
      "pygments_lexer": "ipython3",
      "version": "3.12.7"
    },
    "widgets": {
      "application/vnd.jupyter.widget-state+json": {
        "ede5acfbc41e4435baa537d86ec52711": {
          "model_module": "@jupyter-widgets/controls",
          "model_name": "VBoxModel",
          "model_module_version": "1.5.0",
          "state": {
            "_dom_classes": [],
            "_model_module": "@jupyter-widgets/controls",
            "_model_module_version": "1.5.0",
            "_model_name": "VBoxModel",
            "_view_count": null,
            "_view_module": "@jupyter-widgets/controls",
            "_view_module_version": "1.5.0",
            "_view_name": "VBoxView",
            "box_style": "",
            "children": [],
            "layout": "IPY_MODEL_bc2c1a2a069b4a52b98690532b4f52bf"
          }
        },
        "e5a9fd6686c54789bdc06b6c6956385c": {
          "model_module": "@jupyter-widgets/controls",
          "model_name": "HTMLModel",
          "model_module_version": "1.5.0",
          "state": {
            "_dom_classes": [],
            "_model_module": "@jupyter-widgets/controls",
            "_model_module_version": "1.5.0",
            "_model_name": "HTMLModel",
            "_view_count": null,
            "_view_module": "@jupyter-widgets/controls",
            "_view_module_version": "1.5.0",
            "_view_name": "HTMLView",
            "description": "",
            "description_tooltip": null,
            "layout": "IPY_MODEL_fc4b289ff9cc41c79391a9f70c3ffb1d",
            "placeholder": "​",
            "style": "IPY_MODEL_c5068a7ae1eb4efa8226247d96f51f30",
            "value": "<center> <img\nsrc=https://huggingface.co/front/assets/huggingface_logo-noborder.svg\nalt='Hugging Face'> <br> Copy a token from <a\nhref=\"https://huggingface.co/settings/tokens\" target=\"_blank\">your Hugging Face\ntokens page</a> and paste it below. <br> Immediately click login after copying\nyour token or it might be stored in plain text in this notebook file. </center>"
          }
        },
        "732eaf5a85da415f99b75d21a30df6e8": {
          "model_module": "@jupyter-widgets/controls",
          "model_name": "PasswordModel",
          "model_module_version": "1.5.0",
          "state": {
            "_dom_classes": [],
            "_model_module": "@jupyter-widgets/controls",
            "_model_module_version": "1.5.0",
            "_model_name": "PasswordModel",
            "_view_count": null,
            "_view_module": "@jupyter-widgets/controls",
            "_view_module_version": "1.5.0",
            "_view_name": "PasswordView",
            "continuous_update": true,
            "description": "Token:",
            "description_tooltip": null,
            "disabled": false,
            "layout": "IPY_MODEL_5d9e213544fd4e1f976afbc817983851",
            "placeholder": "​",
            "style": "IPY_MODEL_f5b51a3566bd41b395be02802f1e6e48",
            "value": ""
          }
        },
        "cfbf2007c1634e8bbcae809886088e5e": {
          "model_module": "@jupyter-widgets/controls",
          "model_name": "CheckboxModel",
          "model_module_version": "1.5.0",
          "state": {
            "_dom_classes": [],
            "_model_module": "@jupyter-widgets/controls",
            "_model_module_version": "1.5.0",
            "_model_name": "CheckboxModel",
            "_view_count": null,
            "_view_module": "@jupyter-widgets/controls",
            "_view_module_version": "1.5.0",
            "_view_name": "CheckboxView",
            "description": "Add token as git credential?",
            "description_tooltip": null,
            "disabled": false,
            "indent": true,
            "layout": "IPY_MODEL_b69a3fe955e04835ada144cd40f0a0fc",
            "style": "IPY_MODEL_3d71764213614f29ac338b3532246119",
            "value": true
          }
        },
        "dc7f2e246b9a426ab6e8f63d1e06e042": {
          "model_module": "@jupyter-widgets/controls",
          "model_name": "ButtonModel",
          "model_module_version": "1.5.0",
          "state": {
            "_dom_classes": [],
            "_model_module": "@jupyter-widgets/controls",
            "_model_module_version": "1.5.0",
            "_model_name": "ButtonModel",
            "_view_count": null,
            "_view_module": "@jupyter-widgets/controls",
            "_view_module_version": "1.5.0",
            "_view_name": "ButtonView",
            "button_style": "",
            "description": "Login",
            "disabled": false,
            "icon": "",
            "layout": "IPY_MODEL_4f426dcbba284c1c892636a4a432b1da",
            "style": "IPY_MODEL_0dcec12ba6534f2eb0de0027ceddb6b0",
            "tooltip": ""
          }
        },
        "1cece8b9d7234e118f0a1bd7b60e25c1": {
          "model_module": "@jupyter-widgets/controls",
          "model_name": "HTMLModel",
          "model_module_version": "1.5.0",
          "state": {
            "_dom_classes": [],
            "_model_module": "@jupyter-widgets/controls",
            "_model_module_version": "1.5.0",
            "_model_name": "HTMLModel",
            "_view_count": null,
            "_view_module": "@jupyter-widgets/controls",
            "_view_module_version": "1.5.0",
            "_view_name": "HTMLView",
            "description": "",
            "description_tooltip": null,
            "layout": "IPY_MODEL_662a7a58ab96417790da2ffe8bc7c646",
            "placeholder": "​",
            "style": "IPY_MODEL_99785e42a38340849e512a6087963471",
            "value": "\n<b>Pro Tip:</b> If you don't already have one, you can create a dedicated\n'notebooks' token with 'write' access, that you can then easily reuse for all\nnotebooks. </center>"
          }
        },
        "bc2c1a2a069b4a52b98690532b4f52bf": {
          "model_module": "@jupyter-widgets/base",
          "model_name": "LayoutModel",
          "model_module_version": "1.2.0",
          "state": {
            "_model_module": "@jupyter-widgets/base",
            "_model_module_version": "1.2.0",
            "_model_name": "LayoutModel",
            "_view_count": null,
            "_view_module": "@jupyter-widgets/base",
            "_view_module_version": "1.2.0",
            "_view_name": "LayoutView",
            "align_content": null,
            "align_items": "center",
            "align_self": null,
            "border": null,
            "bottom": null,
            "display": "flex",
            "flex": null,
            "flex_flow": "column",
            "grid_area": null,
            "grid_auto_columns": null,
            "grid_auto_flow": null,
            "grid_auto_rows": null,
            "grid_column": null,
            "grid_gap": null,
            "grid_row": null,
            "grid_template_areas": null,
            "grid_template_columns": null,
            "grid_template_rows": null,
            "height": null,
            "justify_content": null,
            "justify_items": null,
            "left": null,
            "margin": null,
            "max_height": null,
            "max_width": null,
            "min_height": null,
            "min_width": null,
            "object_fit": null,
            "object_position": null,
            "order": null,
            "overflow": null,
            "overflow_x": null,
            "overflow_y": null,
            "padding": null,
            "right": null,
            "top": null,
            "visibility": null,
            "width": "50%"
          }
        },
        "fc4b289ff9cc41c79391a9f70c3ffb1d": {
          "model_module": "@jupyter-widgets/base",
          "model_name": "LayoutModel",
          "model_module_version": "1.2.0",
          "state": {
            "_model_module": "@jupyter-widgets/base",
            "_model_module_version": "1.2.0",
            "_model_name": "LayoutModel",
            "_view_count": null,
            "_view_module": "@jupyter-widgets/base",
            "_view_module_version": "1.2.0",
            "_view_name": "LayoutView",
            "align_content": null,
            "align_items": null,
            "align_self": null,
            "border": null,
            "bottom": null,
            "display": null,
            "flex": null,
            "flex_flow": null,
            "grid_area": null,
            "grid_auto_columns": null,
            "grid_auto_flow": null,
            "grid_auto_rows": null,
            "grid_column": null,
            "grid_gap": null,
            "grid_row": null,
            "grid_template_areas": null,
            "grid_template_columns": null,
            "grid_template_rows": null,
            "height": null,
            "justify_content": null,
            "justify_items": null,
            "left": null,
            "margin": null,
            "max_height": null,
            "max_width": null,
            "min_height": null,
            "min_width": null,
            "object_fit": null,
            "object_position": null,
            "order": null,
            "overflow": null,
            "overflow_x": null,
            "overflow_y": null,
            "padding": null,
            "right": null,
            "top": null,
            "visibility": null,
            "width": null
          }
        },
        "c5068a7ae1eb4efa8226247d96f51f30": {
          "model_module": "@jupyter-widgets/controls",
          "model_name": "DescriptionStyleModel",
          "model_module_version": "1.5.0",
          "state": {
            "_model_module": "@jupyter-widgets/controls",
            "_model_module_version": "1.5.0",
            "_model_name": "DescriptionStyleModel",
            "_view_count": null,
            "_view_module": "@jupyter-widgets/base",
            "_view_module_version": "1.2.0",
            "_view_name": "StyleView",
            "description_width": ""
          }
        },
        "5d9e213544fd4e1f976afbc817983851": {
          "model_module": "@jupyter-widgets/base",
          "model_name": "LayoutModel",
          "model_module_version": "1.2.0",
          "state": {
            "_model_module": "@jupyter-widgets/base",
            "_model_module_version": "1.2.0",
            "_model_name": "LayoutModel",
            "_view_count": null,
            "_view_module": "@jupyter-widgets/base",
            "_view_module_version": "1.2.0",
            "_view_name": "LayoutView",
            "align_content": null,
            "align_items": null,
            "align_self": null,
            "border": null,
            "bottom": null,
            "display": null,
            "flex": null,
            "flex_flow": null,
            "grid_area": null,
            "grid_auto_columns": null,
            "grid_auto_flow": null,
            "grid_auto_rows": null,
            "grid_column": null,
            "grid_gap": null,
            "grid_row": null,
            "grid_template_areas": null,
            "grid_template_columns": null,
            "grid_template_rows": null,
            "height": null,
            "justify_content": null,
            "justify_items": null,
            "left": null,
            "margin": null,
            "max_height": null,
            "max_width": null,
            "min_height": null,
            "min_width": null,
            "object_fit": null,
            "object_position": null,
            "order": null,
            "overflow": null,
            "overflow_x": null,
            "overflow_y": null,
            "padding": null,
            "right": null,
            "top": null,
            "visibility": null,
            "width": null
          }
        },
        "f5b51a3566bd41b395be02802f1e6e48": {
          "model_module": "@jupyter-widgets/controls",
          "model_name": "DescriptionStyleModel",
          "model_module_version": "1.5.0",
          "state": {
            "_model_module": "@jupyter-widgets/controls",
            "_model_module_version": "1.5.0",
            "_model_name": "DescriptionStyleModel",
            "_view_count": null,
            "_view_module": "@jupyter-widgets/base",
            "_view_module_version": "1.2.0",
            "_view_name": "StyleView",
            "description_width": ""
          }
        },
        "b69a3fe955e04835ada144cd40f0a0fc": {
          "model_module": "@jupyter-widgets/base",
          "model_name": "LayoutModel",
          "model_module_version": "1.2.0",
          "state": {
            "_model_module": "@jupyter-widgets/base",
            "_model_module_version": "1.2.0",
            "_model_name": "LayoutModel",
            "_view_count": null,
            "_view_module": "@jupyter-widgets/base",
            "_view_module_version": "1.2.0",
            "_view_name": "LayoutView",
            "align_content": null,
            "align_items": null,
            "align_self": null,
            "border": null,
            "bottom": null,
            "display": null,
            "flex": null,
            "flex_flow": null,
            "grid_area": null,
            "grid_auto_columns": null,
            "grid_auto_flow": null,
            "grid_auto_rows": null,
            "grid_column": null,
            "grid_gap": null,
            "grid_row": null,
            "grid_template_areas": null,
            "grid_template_columns": null,
            "grid_template_rows": null,
            "height": null,
            "justify_content": null,
            "justify_items": null,
            "left": null,
            "margin": null,
            "max_height": null,
            "max_width": null,
            "min_height": null,
            "min_width": null,
            "object_fit": null,
            "object_position": null,
            "order": null,
            "overflow": null,
            "overflow_x": null,
            "overflow_y": null,
            "padding": null,
            "right": null,
            "top": null,
            "visibility": null,
            "width": null
          }
        },
        "3d71764213614f29ac338b3532246119": {
          "model_module": "@jupyter-widgets/controls",
          "model_name": "DescriptionStyleModel",
          "model_module_version": "1.5.0",
          "state": {
            "_model_module": "@jupyter-widgets/controls",
            "_model_module_version": "1.5.0",
            "_model_name": "DescriptionStyleModel",
            "_view_count": null,
            "_view_module": "@jupyter-widgets/base",
            "_view_module_version": "1.2.0",
            "_view_name": "StyleView",
            "description_width": ""
          }
        },
        "4f426dcbba284c1c892636a4a432b1da": {
          "model_module": "@jupyter-widgets/base",
          "model_name": "LayoutModel",
          "model_module_version": "1.2.0",
          "state": {
            "_model_module": "@jupyter-widgets/base",
            "_model_module_version": "1.2.0",
            "_model_name": "LayoutModel",
            "_view_count": null,
            "_view_module": "@jupyter-widgets/base",
            "_view_module_version": "1.2.0",
            "_view_name": "LayoutView",
            "align_content": null,
            "align_items": null,
            "align_self": null,
            "border": null,
            "bottom": null,
            "display": null,
            "flex": null,
            "flex_flow": null,
            "grid_area": null,
            "grid_auto_columns": null,
            "grid_auto_flow": null,
            "grid_auto_rows": null,
            "grid_column": null,
            "grid_gap": null,
            "grid_row": null,
            "grid_template_areas": null,
            "grid_template_columns": null,
            "grid_template_rows": null,
            "height": null,
            "justify_content": null,
            "justify_items": null,
            "left": null,
            "margin": null,
            "max_height": null,
            "max_width": null,
            "min_height": null,
            "min_width": null,
            "object_fit": null,
            "object_position": null,
            "order": null,
            "overflow": null,
            "overflow_x": null,
            "overflow_y": null,
            "padding": null,
            "right": null,
            "top": null,
            "visibility": null,
            "width": null
          }
        },
        "0dcec12ba6534f2eb0de0027ceddb6b0": {
          "model_module": "@jupyter-widgets/controls",
          "model_name": "ButtonStyleModel",
          "model_module_version": "1.5.0",
          "state": {
            "_model_module": "@jupyter-widgets/controls",
            "_model_module_version": "1.5.0",
            "_model_name": "ButtonStyleModel",
            "_view_count": null,
            "_view_module": "@jupyter-widgets/base",
            "_view_module_version": "1.2.0",
            "_view_name": "StyleView",
            "button_color": null,
            "font_weight": ""
          }
        },
        "662a7a58ab96417790da2ffe8bc7c646": {
          "model_module": "@jupyter-widgets/base",
          "model_name": "LayoutModel",
          "model_module_version": "1.2.0",
          "state": {
            "_model_module": "@jupyter-widgets/base",
            "_model_module_version": "1.2.0",
            "_model_name": "LayoutModel",
            "_view_count": null,
            "_view_module": "@jupyter-widgets/base",
            "_view_module_version": "1.2.0",
            "_view_name": "LayoutView",
            "align_content": null,
            "align_items": null,
            "align_self": null,
            "border": null,
            "bottom": null,
            "display": null,
            "flex": null,
            "flex_flow": null,
            "grid_area": null,
            "grid_auto_columns": null,
            "grid_auto_flow": null,
            "grid_auto_rows": null,
            "grid_column": null,
            "grid_gap": null,
            "grid_row": null,
            "grid_template_areas": null,
            "grid_template_columns": null,
            "grid_template_rows": null,
            "height": null,
            "justify_content": null,
            "justify_items": null,
            "left": null,
            "margin": null,
            "max_height": null,
            "max_width": null,
            "min_height": null,
            "min_width": null,
            "object_fit": null,
            "object_position": null,
            "order": null,
            "overflow": null,
            "overflow_x": null,
            "overflow_y": null,
            "padding": null,
            "right": null,
            "top": null,
            "visibility": null,
            "width": null
          }
        },
        "99785e42a38340849e512a6087963471": {
          "model_module": "@jupyter-widgets/controls",
          "model_name": "DescriptionStyleModel",
          "model_module_version": "1.5.0",
          "state": {
            "_model_module": "@jupyter-widgets/controls",
            "_model_module_version": "1.5.0",
            "_model_name": "DescriptionStyleModel",
            "_view_count": null,
            "_view_module": "@jupyter-widgets/base",
            "_view_module_version": "1.2.0",
            "_view_name": "StyleView",
            "description_width": ""
          }
        },
        "eff47fb712154f04b7b06414241f562e": {
          "model_module": "@jupyter-widgets/controls",
          "model_name": "LabelModel",
          "model_module_version": "1.5.0",
          "state": {
            "_dom_classes": [],
            "_model_module": "@jupyter-widgets/controls",
            "_model_module_version": "1.5.0",
            "_model_name": "LabelModel",
            "_view_count": null,
            "_view_module": "@jupyter-widgets/controls",
            "_view_module_version": "1.5.0",
            "_view_name": "LabelView",
            "description": "",
            "description_tooltip": null,
            "layout": "IPY_MODEL_a93ddf32eb804d80bbe4c2e1de2aa45d",
            "placeholder": "​",
            "style": "IPY_MODEL_8f2fe6466fd743878055aa442359c3b7",
            "value": "Connecting..."
          }
        },
        "a93ddf32eb804d80bbe4c2e1de2aa45d": {
          "model_module": "@jupyter-widgets/base",
          "model_name": "LayoutModel",
          "model_module_version": "1.2.0",
          "state": {
            "_model_module": "@jupyter-widgets/base",
            "_model_module_version": "1.2.0",
            "_model_name": "LayoutModel",
            "_view_count": null,
            "_view_module": "@jupyter-widgets/base",
            "_view_module_version": "1.2.0",
            "_view_name": "LayoutView",
            "align_content": null,
            "align_items": null,
            "align_self": null,
            "border": null,
            "bottom": null,
            "display": null,
            "flex": null,
            "flex_flow": null,
            "grid_area": null,
            "grid_auto_columns": null,
            "grid_auto_flow": null,
            "grid_auto_rows": null,
            "grid_column": null,
            "grid_gap": null,
            "grid_row": null,
            "grid_template_areas": null,
            "grid_template_columns": null,
            "grid_template_rows": null,
            "height": null,
            "justify_content": null,
            "justify_items": null,
            "left": null,
            "margin": null,
            "max_height": null,
            "max_width": null,
            "min_height": null,
            "min_width": null,
            "object_fit": null,
            "object_position": null,
            "order": null,
            "overflow": null,
            "overflow_x": null,
            "overflow_y": null,
            "padding": null,
            "right": null,
            "top": null,
            "visibility": null,
            "width": null
          }
        },
        "8f2fe6466fd743878055aa442359c3b7": {
          "model_module": "@jupyter-widgets/controls",
          "model_name": "DescriptionStyleModel",
          "model_module_version": "1.5.0",
          "state": {
            "_model_module": "@jupyter-widgets/controls",
            "_model_module_version": "1.5.0",
            "_model_name": "DescriptionStyleModel",
            "_view_count": null,
            "_view_module": "@jupyter-widgets/base",
            "_view_module_version": "1.2.0",
            "_view_name": "StyleView",
            "description_width": ""
          }
        },
        "6568e5e76e3b4274a3371a949b9b2c24": {
          "model_module": "@jupyter-widgets/controls",
          "model_name": "HBoxModel",
          "model_module_version": "1.5.0",
          "state": {
            "_dom_classes": [],
            "_model_module": "@jupyter-widgets/controls",
            "_model_module_version": "1.5.0",
            "_model_name": "HBoxModel",
            "_view_count": null,
            "_view_module": "@jupyter-widgets/controls",
            "_view_module_version": "1.5.0",
            "_view_name": "HBoxView",
            "box_style": "",
            "children": [
              "IPY_MODEL_1c740742c528450f87727eb1d23e1911",
              "IPY_MODEL_5d8a18b64e684637a056c5fc512f4a8b",
              "IPY_MODEL_dbd14079457a4aab97cb4be015aa9fd8"
            ],
            "layout": "IPY_MODEL_e0bd38a3f5514b5183036ac6903977b6"
          }
        },
        "1c740742c528450f87727eb1d23e1911": {
          "model_module": "@jupyter-widgets/controls",
          "model_name": "HTMLModel",
          "model_module_version": "1.5.0",
          "state": {
            "_dom_classes": [],
            "_model_module": "@jupyter-widgets/controls",
            "_model_module_version": "1.5.0",
            "_model_name": "HTMLModel",
            "_view_count": null,
            "_view_module": "@jupyter-widgets/controls",
            "_view_module_version": "1.5.0",
            "_view_name": "HTMLView",
            "description": "",
            "description_tooltip": null,
            "layout": "IPY_MODEL_9002974ed05a41c08b87fbbd3b28e307",
            "placeholder": "​",
            "style": "IPY_MODEL_cf2b986c53b0417c9bd14e0be492791f",
            "value": "Downloading shards: 100%"
          }
        },
        "5d8a18b64e684637a056c5fc512f4a8b": {
          "model_module": "@jupyter-widgets/controls",
          "model_name": "FloatProgressModel",
          "model_module_version": "1.5.0",
          "state": {
            "_dom_classes": [],
            "_model_module": "@jupyter-widgets/controls",
            "_model_module_version": "1.5.0",
            "_model_name": "FloatProgressModel",
            "_view_count": null,
            "_view_module": "@jupyter-widgets/controls",
            "_view_module_version": "1.5.0",
            "_view_name": "ProgressView",
            "bar_style": "success",
            "description": "",
            "description_tooltip": null,
            "layout": "IPY_MODEL_fafff8a81dd746f9a8b58707dd54b52a",
            "max": 2,
            "min": 0,
            "orientation": "horizontal",
            "style": "IPY_MODEL_a854819bed8d4234a9b2b4ad451f9a9b",
            "value": 2
          }
        },
        "dbd14079457a4aab97cb4be015aa9fd8": {
          "model_module": "@jupyter-widgets/controls",
          "model_name": "HTMLModel",
          "model_module_version": "1.5.0",
          "state": {
            "_dom_classes": [],
            "_model_module": "@jupyter-widgets/controls",
            "_model_module_version": "1.5.0",
            "_model_name": "HTMLModel",
            "_view_count": null,
            "_view_module": "@jupyter-widgets/controls",
            "_view_module_version": "1.5.0",
            "_view_name": "HTMLView",
            "description": "",
            "description_tooltip": null,
            "layout": "IPY_MODEL_1c46c3b3242f4c30ae6af90785eb7489",
            "placeholder": "​",
            "style": "IPY_MODEL_dfb4f945eb7d493589da36b695eb3d77",
            "value": " 2/2 [00:51&lt;00:00, 24.70s/it]"
          }
        },
        "e0bd38a3f5514b5183036ac6903977b6": {
          "model_module": "@jupyter-widgets/base",
          "model_name": "LayoutModel",
          "model_module_version": "1.2.0",
          "state": {
            "_model_module": "@jupyter-widgets/base",
            "_model_module_version": "1.2.0",
            "_model_name": "LayoutModel",
            "_view_count": null,
            "_view_module": "@jupyter-widgets/base",
            "_view_module_version": "1.2.0",
            "_view_name": "LayoutView",
            "align_content": null,
            "align_items": null,
            "align_self": null,
            "border": null,
            "bottom": null,
            "display": null,
            "flex": null,
            "flex_flow": null,
            "grid_area": null,
            "grid_auto_columns": null,
            "grid_auto_flow": null,
            "grid_auto_rows": null,
            "grid_column": null,
            "grid_gap": null,
            "grid_row": null,
            "grid_template_areas": null,
            "grid_template_columns": null,
            "grid_template_rows": null,
            "height": null,
            "justify_content": null,
            "justify_items": null,
            "left": null,
            "margin": null,
            "max_height": null,
            "max_width": null,
            "min_height": null,
            "min_width": null,
            "object_fit": null,
            "object_position": null,
            "order": null,
            "overflow": null,
            "overflow_x": null,
            "overflow_y": null,
            "padding": null,
            "right": null,
            "top": null,
            "visibility": null,
            "width": null
          }
        },
        "9002974ed05a41c08b87fbbd3b28e307": {
          "model_module": "@jupyter-widgets/base",
          "model_name": "LayoutModel",
          "model_module_version": "1.2.0",
          "state": {
            "_model_module": "@jupyter-widgets/base",
            "_model_module_version": "1.2.0",
            "_model_name": "LayoutModel",
            "_view_count": null,
            "_view_module": "@jupyter-widgets/base",
            "_view_module_version": "1.2.0",
            "_view_name": "LayoutView",
            "align_content": null,
            "align_items": null,
            "align_self": null,
            "border": null,
            "bottom": null,
            "display": null,
            "flex": null,
            "flex_flow": null,
            "grid_area": null,
            "grid_auto_columns": null,
            "grid_auto_flow": null,
            "grid_auto_rows": null,
            "grid_column": null,
            "grid_gap": null,
            "grid_row": null,
            "grid_template_areas": null,
            "grid_template_columns": null,
            "grid_template_rows": null,
            "height": null,
            "justify_content": null,
            "justify_items": null,
            "left": null,
            "margin": null,
            "max_height": null,
            "max_width": null,
            "min_height": null,
            "min_width": null,
            "object_fit": null,
            "object_position": null,
            "order": null,
            "overflow": null,
            "overflow_x": null,
            "overflow_y": null,
            "padding": null,
            "right": null,
            "top": null,
            "visibility": null,
            "width": null
          }
        },
        "cf2b986c53b0417c9bd14e0be492791f": {
          "model_module": "@jupyter-widgets/controls",
          "model_name": "DescriptionStyleModel",
          "model_module_version": "1.5.0",
          "state": {
            "_model_module": "@jupyter-widgets/controls",
            "_model_module_version": "1.5.0",
            "_model_name": "DescriptionStyleModel",
            "_view_count": null,
            "_view_module": "@jupyter-widgets/base",
            "_view_module_version": "1.2.0",
            "_view_name": "StyleView",
            "description_width": ""
          }
        },
        "fafff8a81dd746f9a8b58707dd54b52a": {
          "model_module": "@jupyter-widgets/base",
          "model_name": "LayoutModel",
          "model_module_version": "1.2.0",
          "state": {
            "_model_module": "@jupyter-widgets/base",
            "_model_module_version": "1.2.0",
            "_model_name": "LayoutModel",
            "_view_count": null,
            "_view_module": "@jupyter-widgets/base",
            "_view_module_version": "1.2.0",
            "_view_name": "LayoutView",
            "align_content": null,
            "align_items": null,
            "align_self": null,
            "border": null,
            "bottom": null,
            "display": null,
            "flex": null,
            "flex_flow": null,
            "grid_area": null,
            "grid_auto_columns": null,
            "grid_auto_flow": null,
            "grid_auto_rows": null,
            "grid_column": null,
            "grid_gap": null,
            "grid_row": null,
            "grid_template_areas": null,
            "grid_template_columns": null,
            "grid_template_rows": null,
            "height": null,
            "justify_content": null,
            "justify_items": null,
            "left": null,
            "margin": null,
            "max_height": null,
            "max_width": null,
            "min_height": null,
            "min_width": null,
            "object_fit": null,
            "object_position": null,
            "order": null,
            "overflow": null,
            "overflow_x": null,
            "overflow_y": null,
            "padding": null,
            "right": null,
            "top": null,
            "visibility": null,
            "width": null
          }
        },
        "a854819bed8d4234a9b2b4ad451f9a9b": {
          "model_module": "@jupyter-widgets/controls",
          "model_name": "ProgressStyleModel",
          "model_module_version": "1.5.0",
          "state": {
            "_model_module": "@jupyter-widgets/controls",
            "_model_module_version": "1.5.0",
            "_model_name": "ProgressStyleModel",
            "_view_count": null,
            "_view_module": "@jupyter-widgets/base",
            "_view_module_version": "1.2.0",
            "_view_name": "StyleView",
            "bar_color": null,
            "description_width": ""
          }
        },
        "1c46c3b3242f4c30ae6af90785eb7489": {
          "model_module": "@jupyter-widgets/base",
          "model_name": "LayoutModel",
          "model_module_version": "1.2.0",
          "state": {
            "_model_module": "@jupyter-widgets/base",
            "_model_module_version": "1.2.0",
            "_model_name": "LayoutModel",
            "_view_count": null,
            "_view_module": "@jupyter-widgets/base",
            "_view_module_version": "1.2.0",
            "_view_name": "LayoutView",
            "align_content": null,
            "align_items": null,
            "align_self": null,
            "border": null,
            "bottom": null,
            "display": null,
            "flex": null,
            "flex_flow": null,
            "grid_area": null,
            "grid_auto_columns": null,
            "grid_auto_flow": null,
            "grid_auto_rows": null,
            "grid_column": null,
            "grid_gap": null,
            "grid_row": null,
            "grid_template_areas": null,
            "grid_template_columns": null,
            "grid_template_rows": null,
            "height": null,
            "justify_content": null,
            "justify_items": null,
            "left": null,
            "margin": null,
            "max_height": null,
            "max_width": null,
            "min_height": null,
            "min_width": null,
            "object_fit": null,
            "object_position": null,
            "order": null,
            "overflow": null,
            "overflow_x": null,
            "overflow_y": null,
            "padding": null,
            "right": null,
            "top": null,
            "visibility": null,
            "width": null
          }
        },
        "dfb4f945eb7d493589da36b695eb3d77": {
          "model_module": "@jupyter-widgets/controls",
          "model_name": "DescriptionStyleModel",
          "model_module_version": "1.5.0",
          "state": {
            "_model_module": "@jupyter-widgets/controls",
            "_model_module_version": "1.5.0",
            "_model_name": "DescriptionStyleModel",
            "_view_count": null,
            "_view_module": "@jupyter-widgets/base",
            "_view_module_version": "1.2.0",
            "_view_name": "StyleView",
            "description_width": ""
          }
        },
        "dad96c0dea09462f80b2f8cb2fa95680": {
          "model_module": "@jupyter-widgets/controls",
          "model_name": "HBoxModel",
          "model_module_version": "1.5.0",
          "state": {
            "_dom_classes": [],
            "_model_module": "@jupyter-widgets/controls",
            "_model_module_version": "1.5.0",
            "_model_name": "HBoxModel",
            "_view_count": null,
            "_view_module": "@jupyter-widgets/controls",
            "_view_module_version": "1.5.0",
            "_view_name": "HBoxView",
            "box_style": "",
            "children": [
              "IPY_MODEL_57982814693d48098d49a9242aa1d0d1",
              "IPY_MODEL_e841f391592647ebb86c7eaa4fbdeab4",
              "IPY_MODEL_a1a508fc37b54cfb82939d61b81a1f91"
            ],
            "layout": "IPY_MODEL_9f95e537a2374183a75eeb0bd5b4b7df"
          }
        },
        "57982814693d48098d49a9242aa1d0d1": {
          "model_module": "@jupyter-widgets/controls",
          "model_name": "HTMLModel",
          "model_module_version": "1.5.0",
          "state": {
            "_dom_classes": [],
            "_model_module": "@jupyter-widgets/controls",
            "_model_module_version": "1.5.0",
            "_model_name": "HTMLModel",
            "_view_count": null,
            "_view_module": "@jupyter-widgets/controls",
            "_view_module_version": "1.5.0",
            "_view_name": "HTMLView",
            "description": "",
            "description_tooltip": null,
            "layout": "IPY_MODEL_d10c1340dd664f12bc3c01aebc3c7a42",
            "placeholder": "​",
            "style": "IPY_MODEL_b4c0daf00fa34e94ba8cd9a7b166f369",
            "value": "model-00001-of-00002.safetensors: 100%"
          }
        },
        "e841f391592647ebb86c7eaa4fbdeab4": {
          "model_module": "@jupyter-widgets/controls",
          "model_name": "FloatProgressModel",
          "model_module_version": "1.5.0",
          "state": {
            "_dom_classes": [],
            "_model_module": "@jupyter-widgets/controls",
            "_model_module_version": "1.5.0",
            "_model_name": "FloatProgressModel",
            "_view_count": null,
            "_view_module": "@jupyter-widgets/controls",
            "_view_module_version": "1.5.0",
            "_view_name": "ProgressView",
            "bar_style": "success",
            "description": "",
            "description_tooltip": null,
            "layout": "IPY_MODEL_69e5b1ea10e14c2e8fa9894a32c2479a",
            "max": 9976576152,
            "min": 0,
            "orientation": "horizontal",
            "style": "IPY_MODEL_faa7bb1c45f64fcfb4e2398da1360779",
            "value": 9976576152
          }
        },
        "a1a508fc37b54cfb82939d61b81a1f91": {
          "model_module": "@jupyter-widgets/controls",
          "model_name": "HTMLModel",
          "model_module_version": "1.5.0",
          "state": {
            "_dom_classes": [],
            "_model_module": "@jupyter-widgets/controls",
            "_model_module_version": "1.5.0",
            "_model_name": "HTMLModel",
            "_view_count": null,
            "_view_module": "@jupyter-widgets/controls",
            "_view_module_version": "1.5.0",
            "_view_name": "HTMLView",
            "description": "",
            "description_tooltip": null,
            "layout": "IPY_MODEL_8495cf052d2a4a55bae081eea0c7f971",
            "placeholder": "​",
            "style": "IPY_MODEL_7aab1ba4c01f467f84dc3228f88ad10f",
            "value": " 9.98G/9.98G [00:29&lt;00:00, 235MB/s]"
          }
        },
        "9f95e537a2374183a75eeb0bd5b4b7df": {
          "model_module": "@jupyter-widgets/base",
          "model_name": "LayoutModel",
          "model_module_version": "1.2.0",
          "state": {
            "_model_module": "@jupyter-widgets/base",
            "_model_module_version": "1.2.0",
            "_model_name": "LayoutModel",
            "_view_count": null,
            "_view_module": "@jupyter-widgets/base",
            "_view_module_version": "1.2.0",
            "_view_name": "LayoutView",
            "align_content": null,
            "align_items": null,
            "align_self": null,
            "border": null,
            "bottom": null,
            "display": null,
            "flex": null,
            "flex_flow": null,
            "grid_area": null,
            "grid_auto_columns": null,
            "grid_auto_flow": null,
            "grid_auto_rows": null,
            "grid_column": null,
            "grid_gap": null,
            "grid_row": null,
            "grid_template_areas": null,
            "grid_template_columns": null,
            "grid_template_rows": null,
            "height": null,
            "justify_content": null,
            "justify_items": null,
            "left": null,
            "margin": null,
            "max_height": null,
            "max_width": null,
            "min_height": null,
            "min_width": null,
            "object_fit": null,
            "object_position": null,
            "order": null,
            "overflow": null,
            "overflow_x": null,
            "overflow_y": null,
            "padding": null,
            "right": null,
            "top": null,
            "visibility": null,
            "width": null
          }
        },
        "d10c1340dd664f12bc3c01aebc3c7a42": {
          "model_module": "@jupyter-widgets/base",
          "model_name": "LayoutModel",
          "model_module_version": "1.2.0",
          "state": {
            "_model_module": "@jupyter-widgets/base",
            "_model_module_version": "1.2.0",
            "_model_name": "LayoutModel",
            "_view_count": null,
            "_view_module": "@jupyter-widgets/base",
            "_view_module_version": "1.2.0",
            "_view_name": "LayoutView",
            "align_content": null,
            "align_items": null,
            "align_self": null,
            "border": null,
            "bottom": null,
            "display": null,
            "flex": null,
            "flex_flow": null,
            "grid_area": null,
            "grid_auto_columns": null,
            "grid_auto_flow": null,
            "grid_auto_rows": null,
            "grid_column": null,
            "grid_gap": null,
            "grid_row": null,
            "grid_template_areas": null,
            "grid_template_columns": null,
            "grid_template_rows": null,
            "height": null,
            "justify_content": null,
            "justify_items": null,
            "left": null,
            "margin": null,
            "max_height": null,
            "max_width": null,
            "min_height": null,
            "min_width": null,
            "object_fit": null,
            "object_position": null,
            "order": null,
            "overflow": null,
            "overflow_x": null,
            "overflow_y": null,
            "padding": null,
            "right": null,
            "top": null,
            "visibility": null,
            "width": null
          }
        },
        "b4c0daf00fa34e94ba8cd9a7b166f369": {
          "model_module": "@jupyter-widgets/controls",
          "model_name": "DescriptionStyleModel",
          "model_module_version": "1.5.0",
          "state": {
            "_model_module": "@jupyter-widgets/controls",
            "_model_module_version": "1.5.0",
            "_model_name": "DescriptionStyleModel",
            "_view_count": null,
            "_view_module": "@jupyter-widgets/base",
            "_view_module_version": "1.2.0",
            "_view_name": "StyleView",
            "description_width": ""
          }
        },
        "69e5b1ea10e14c2e8fa9894a32c2479a": {
          "model_module": "@jupyter-widgets/base",
          "model_name": "LayoutModel",
          "model_module_version": "1.2.0",
          "state": {
            "_model_module": "@jupyter-widgets/base",
            "_model_module_version": "1.2.0",
            "_model_name": "LayoutModel",
            "_view_count": null,
            "_view_module": "@jupyter-widgets/base",
            "_view_module_version": "1.2.0",
            "_view_name": "LayoutView",
            "align_content": null,
            "align_items": null,
            "align_self": null,
            "border": null,
            "bottom": null,
            "display": null,
            "flex": null,
            "flex_flow": null,
            "grid_area": null,
            "grid_auto_columns": null,
            "grid_auto_flow": null,
            "grid_auto_rows": null,
            "grid_column": null,
            "grid_gap": null,
            "grid_row": null,
            "grid_template_areas": null,
            "grid_template_columns": null,
            "grid_template_rows": null,
            "height": null,
            "justify_content": null,
            "justify_items": null,
            "left": null,
            "margin": null,
            "max_height": null,
            "max_width": null,
            "min_height": null,
            "min_width": null,
            "object_fit": null,
            "object_position": null,
            "order": null,
            "overflow": null,
            "overflow_x": null,
            "overflow_y": null,
            "padding": null,
            "right": null,
            "top": null,
            "visibility": null,
            "width": null
          }
        },
        "faa7bb1c45f64fcfb4e2398da1360779": {
          "model_module": "@jupyter-widgets/controls",
          "model_name": "ProgressStyleModel",
          "model_module_version": "1.5.0",
          "state": {
            "_model_module": "@jupyter-widgets/controls",
            "_model_module_version": "1.5.0",
            "_model_name": "ProgressStyleModel",
            "_view_count": null,
            "_view_module": "@jupyter-widgets/base",
            "_view_module_version": "1.2.0",
            "_view_name": "StyleView",
            "bar_color": null,
            "description_width": ""
          }
        },
        "8495cf052d2a4a55bae081eea0c7f971": {
          "model_module": "@jupyter-widgets/base",
          "model_name": "LayoutModel",
          "model_module_version": "1.2.0",
          "state": {
            "_model_module": "@jupyter-widgets/base",
            "_model_module_version": "1.2.0",
            "_model_name": "LayoutModel",
            "_view_count": null,
            "_view_module": "@jupyter-widgets/base",
            "_view_module_version": "1.2.0",
            "_view_name": "LayoutView",
            "align_content": null,
            "align_items": null,
            "align_self": null,
            "border": null,
            "bottom": null,
            "display": null,
            "flex": null,
            "flex_flow": null,
            "grid_area": null,
            "grid_auto_columns": null,
            "grid_auto_flow": null,
            "grid_auto_rows": null,
            "grid_column": null,
            "grid_gap": null,
            "grid_row": null,
            "grid_template_areas": null,
            "grid_template_columns": null,
            "grid_template_rows": null,
            "height": null,
            "justify_content": null,
            "justify_items": null,
            "left": null,
            "margin": null,
            "max_height": null,
            "max_width": null,
            "min_height": null,
            "min_width": null,
            "object_fit": null,
            "object_position": null,
            "order": null,
            "overflow": null,
            "overflow_x": null,
            "overflow_y": null,
            "padding": null,
            "right": null,
            "top": null,
            "visibility": null,
            "width": null
          }
        },
        "7aab1ba4c01f467f84dc3228f88ad10f": {
          "model_module": "@jupyter-widgets/controls",
          "model_name": "DescriptionStyleModel",
          "model_module_version": "1.5.0",
          "state": {
            "_model_module": "@jupyter-widgets/controls",
            "_model_module_version": "1.5.0",
            "_model_name": "DescriptionStyleModel",
            "_view_count": null,
            "_view_module": "@jupyter-widgets/base",
            "_view_module_version": "1.2.0",
            "_view_name": "StyleView",
            "description_width": ""
          }
        },
        "21ff3f9e718e41e4ae492ab5388ff392": {
          "model_module": "@jupyter-widgets/controls",
          "model_name": "HBoxModel",
          "model_module_version": "1.5.0",
          "state": {
            "_dom_classes": [],
            "_model_module": "@jupyter-widgets/controls",
            "_model_module_version": "1.5.0",
            "_model_name": "HBoxModel",
            "_view_count": null,
            "_view_module": "@jupyter-widgets/controls",
            "_view_module_version": "1.5.0",
            "_view_name": "HBoxView",
            "box_style": "",
            "children": [
              "IPY_MODEL_91fd6668da044998b8056501c8855596",
              "IPY_MODEL_833ca5d26546459e82d28aabad566bed",
              "IPY_MODEL_56813f78378a4f9898ec2a8de9a2a03a"
            ],
            "layout": "IPY_MODEL_d086966b03c94377b71d7d9856779345"
          }
        },
        "91fd6668da044998b8056501c8855596": {
          "model_module": "@jupyter-widgets/controls",
          "model_name": "HTMLModel",
          "model_module_version": "1.5.0",
          "state": {
            "_dom_classes": [],
            "_model_module": "@jupyter-widgets/controls",
            "_model_module_version": "1.5.0",
            "_model_name": "HTMLModel",
            "_view_count": null,
            "_view_module": "@jupyter-widgets/controls",
            "_view_module_version": "1.5.0",
            "_view_name": "HTMLView",
            "description": "",
            "description_tooltip": null,
            "layout": "IPY_MODEL_f3e649ecf9d74a4381005868c4e5ef9c",
            "placeholder": "​",
            "style": "IPY_MODEL_33ed20fa64f54cb48b726141c377a347",
            "value": "model-00002-of-00002.safetensors: 100%"
          }
        },
        "833ca5d26546459e82d28aabad566bed": {
          "model_module": "@jupyter-widgets/controls",
          "model_name": "FloatProgressModel",
          "model_module_version": "1.5.0",
          "state": {
            "_dom_classes": [],
            "_model_module": "@jupyter-widgets/controls",
            "_model_module_version": "1.5.0",
            "_model_name": "FloatProgressModel",
            "_view_count": null,
            "_view_module": "@jupyter-widgets/controls",
            "_view_module_version": "1.5.0",
            "_view_name": "ProgressView",
            "bar_style": "success",
            "description": "",
            "description_tooltip": null,
            "layout": "IPY_MODEL_b597ca0bc8924db5b37185479a3d8115",
            "max": 3500296424,
            "min": 0,
            "orientation": "horizontal",
            "style": "IPY_MODEL_1bedee1f4bdf44e1b7f981a6f09e94e2",
            "value": 3500296424
          }
        },
        "56813f78378a4f9898ec2a8de9a2a03a": {
          "model_module": "@jupyter-widgets/controls",
          "model_name": "HTMLModel",
          "model_module_version": "1.5.0",
          "state": {
            "_dom_classes": [],
            "_model_module": "@jupyter-widgets/controls",
            "_model_module_version": "1.5.0",
            "_model_name": "HTMLModel",
            "_view_count": null,
            "_view_module": "@jupyter-widgets/controls",
            "_view_module_version": "1.5.0",
            "_view_name": "HTMLView",
            "description": "",
            "description_tooltip": null,
            "layout": "IPY_MODEL_41b239dabf844419aba37d9a8574359d",
            "placeholder": "​",
            "style": "IPY_MODEL_991dac21529e456c9165f64f155c5b59",
            "value": " 3.50G/3.50G [00:20&lt;00:00, 235MB/s]"
          }
        },
        "d086966b03c94377b71d7d9856779345": {
          "model_module": "@jupyter-widgets/base",
          "model_name": "LayoutModel",
          "model_module_version": "1.2.0",
          "state": {
            "_model_module": "@jupyter-widgets/base",
            "_model_module_version": "1.2.0",
            "_model_name": "LayoutModel",
            "_view_count": null,
            "_view_module": "@jupyter-widgets/base",
            "_view_module_version": "1.2.0",
            "_view_name": "LayoutView",
            "align_content": null,
            "align_items": null,
            "align_self": null,
            "border": null,
            "bottom": null,
            "display": null,
            "flex": null,
            "flex_flow": null,
            "grid_area": null,
            "grid_auto_columns": null,
            "grid_auto_flow": null,
            "grid_auto_rows": null,
            "grid_column": null,
            "grid_gap": null,
            "grid_row": null,
            "grid_template_areas": null,
            "grid_template_columns": null,
            "grid_template_rows": null,
            "height": null,
            "justify_content": null,
            "justify_items": null,
            "left": null,
            "margin": null,
            "max_height": null,
            "max_width": null,
            "min_height": null,
            "min_width": null,
            "object_fit": null,
            "object_position": null,
            "order": null,
            "overflow": null,
            "overflow_x": null,
            "overflow_y": null,
            "padding": null,
            "right": null,
            "top": null,
            "visibility": null,
            "width": null
          }
        },
        "f3e649ecf9d74a4381005868c4e5ef9c": {
          "model_module": "@jupyter-widgets/base",
          "model_name": "LayoutModel",
          "model_module_version": "1.2.0",
          "state": {
            "_model_module": "@jupyter-widgets/base",
            "_model_module_version": "1.2.0",
            "_model_name": "LayoutModel",
            "_view_count": null,
            "_view_module": "@jupyter-widgets/base",
            "_view_module_version": "1.2.0",
            "_view_name": "LayoutView",
            "align_content": null,
            "align_items": null,
            "align_self": null,
            "border": null,
            "bottom": null,
            "display": null,
            "flex": null,
            "flex_flow": null,
            "grid_area": null,
            "grid_auto_columns": null,
            "grid_auto_flow": null,
            "grid_auto_rows": null,
            "grid_column": null,
            "grid_gap": null,
            "grid_row": null,
            "grid_template_areas": null,
            "grid_template_columns": null,
            "grid_template_rows": null,
            "height": null,
            "justify_content": null,
            "justify_items": null,
            "left": null,
            "margin": null,
            "max_height": null,
            "max_width": null,
            "min_height": null,
            "min_width": null,
            "object_fit": null,
            "object_position": null,
            "order": null,
            "overflow": null,
            "overflow_x": null,
            "overflow_y": null,
            "padding": null,
            "right": null,
            "top": null,
            "visibility": null,
            "width": null
          }
        },
        "33ed20fa64f54cb48b726141c377a347": {
          "model_module": "@jupyter-widgets/controls",
          "model_name": "DescriptionStyleModel",
          "model_module_version": "1.5.0",
          "state": {
            "_model_module": "@jupyter-widgets/controls",
            "_model_module_version": "1.5.0",
            "_model_name": "DescriptionStyleModel",
            "_view_count": null,
            "_view_module": "@jupyter-widgets/base",
            "_view_module_version": "1.2.0",
            "_view_name": "StyleView",
            "description_width": ""
          }
        },
        "b597ca0bc8924db5b37185479a3d8115": {
          "model_module": "@jupyter-widgets/base",
          "model_name": "LayoutModel",
          "model_module_version": "1.2.0",
          "state": {
            "_model_module": "@jupyter-widgets/base",
            "_model_module_version": "1.2.0",
            "_model_name": "LayoutModel",
            "_view_count": null,
            "_view_module": "@jupyter-widgets/base",
            "_view_module_version": "1.2.0",
            "_view_name": "LayoutView",
            "align_content": null,
            "align_items": null,
            "align_self": null,
            "border": null,
            "bottom": null,
            "display": null,
            "flex": null,
            "flex_flow": null,
            "grid_area": null,
            "grid_auto_columns": null,
            "grid_auto_flow": null,
            "grid_auto_rows": null,
            "grid_column": null,
            "grid_gap": null,
            "grid_row": null,
            "grid_template_areas": null,
            "grid_template_columns": null,
            "grid_template_rows": null,
            "height": null,
            "justify_content": null,
            "justify_items": null,
            "left": null,
            "margin": null,
            "max_height": null,
            "max_width": null,
            "min_height": null,
            "min_width": null,
            "object_fit": null,
            "object_position": null,
            "order": null,
            "overflow": null,
            "overflow_x": null,
            "overflow_y": null,
            "padding": null,
            "right": null,
            "top": null,
            "visibility": null,
            "width": null
          }
        },
        "1bedee1f4bdf44e1b7f981a6f09e94e2": {
          "model_module": "@jupyter-widgets/controls",
          "model_name": "ProgressStyleModel",
          "model_module_version": "1.5.0",
          "state": {
            "_model_module": "@jupyter-widgets/controls",
            "_model_module_version": "1.5.0",
            "_model_name": "ProgressStyleModel",
            "_view_count": null,
            "_view_module": "@jupyter-widgets/base",
            "_view_module_version": "1.2.0",
            "_view_name": "StyleView",
            "bar_color": null,
            "description_width": ""
          }
        },
        "41b239dabf844419aba37d9a8574359d": {
          "model_module": "@jupyter-widgets/base",
          "model_name": "LayoutModel",
          "model_module_version": "1.2.0",
          "state": {
            "_model_module": "@jupyter-widgets/base",
            "_model_module_version": "1.2.0",
            "_model_name": "LayoutModel",
            "_view_count": null,
            "_view_module": "@jupyter-widgets/base",
            "_view_module_version": "1.2.0",
            "_view_name": "LayoutView",
            "align_content": null,
            "align_items": null,
            "align_self": null,
            "border": null,
            "bottom": null,
            "display": null,
            "flex": null,
            "flex_flow": null,
            "grid_area": null,
            "grid_auto_columns": null,
            "grid_auto_flow": null,
            "grid_auto_rows": null,
            "grid_column": null,
            "grid_gap": null,
            "grid_row": null,
            "grid_template_areas": null,
            "grid_template_columns": null,
            "grid_template_rows": null,
            "height": null,
            "justify_content": null,
            "justify_items": null,
            "left": null,
            "margin": null,
            "max_height": null,
            "max_width": null,
            "min_height": null,
            "min_width": null,
            "object_fit": null,
            "object_position": null,
            "order": null,
            "overflow": null,
            "overflow_x": null,
            "overflow_y": null,
            "padding": null,
            "right": null,
            "top": null,
            "visibility": null,
            "width": null
          }
        },
        "991dac21529e456c9165f64f155c5b59": {
          "model_module": "@jupyter-widgets/controls",
          "model_name": "DescriptionStyleModel",
          "model_module_version": "1.5.0",
          "state": {
            "_model_module": "@jupyter-widgets/controls",
            "_model_module_version": "1.5.0",
            "_model_name": "DescriptionStyleModel",
            "_view_count": null,
            "_view_module": "@jupyter-widgets/base",
            "_view_module_version": "1.2.0",
            "_view_name": "StyleView",
            "description_width": ""
          }
        },
        "f07b4e4ec7cc4a288f94f3c7186da294": {
          "model_module": "@jupyter-widgets/controls",
          "model_name": "HBoxModel",
          "model_module_version": "1.5.0",
          "state": {
            "_dom_classes": [],
            "_model_module": "@jupyter-widgets/controls",
            "_model_module_version": "1.5.0",
            "_model_name": "HBoxModel",
            "_view_count": null,
            "_view_module": "@jupyter-widgets/controls",
            "_view_module_version": "1.5.0",
            "_view_name": "HBoxView",
            "box_style": "",
            "children": [
              "IPY_MODEL_dc2f25df026941f6b2d5769025e101f7",
              "IPY_MODEL_76cf91f966e74304b49dd0a8378eaf37",
              "IPY_MODEL_8f8d53f02c3c42559d0c1baa12a3052f"
            ],
            "layout": "IPY_MODEL_1e45d3a2dcb44256bff14c707f3e29c7"
          }
        },
        "dc2f25df026941f6b2d5769025e101f7": {
          "model_module": "@jupyter-widgets/controls",
          "model_name": "HTMLModel",
          "model_module_version": "1.5.0",
          "state": {
            "_dom_classes": [],
            "_model_module": "@jupyter-widgets/controls",
            "_model_module_version": "1.5.0",
            "_model_name": "HTMLModel",
            "_view_count": null,
            "_view_module": "@jupyter-widgets/controls",
            "_view_module_version": "1.5.0",
            "_view_name": "HTMLView",
            "description": "",
            "description_tooltip": null,
            "layout": "IPY_MODEL_4cb0a7abee594ef6a5d396e77f9e2e9b",
            "placeholder": "​",
            "style": "IPY_MODEL_f74d19a3c56e444b87331c183ccfcada",
            "value": "Loading checkpoint shards: 100%"
          }
        },
        "76cf91f966e74304b49dd0a8378eaf37": {
          "model_module": "@jupyter-widgets/controls",
          "model_name": "FloatProgressModel",
          "model_module_version": "1.5.0",
          "state": {
            "_dom_classes": [],
            "_model_module": "@jupyter-widgets/controls",
            "_model_module_version": "1.5.0",
            "_model_name": "FloatProgressModel",
            "_view_count": null,
            "_view_module": "@jupyter-widgets/controls",
            "_view_module_version": "1.5.0",
            "_view_name": "ProgressView",
            "bar_style": "success",
            "description": "",
            "description_tooltip": null,
            "layout": "IPY_MODEL_e53d45c1dd864a99b3e3005ded723e3b",
            "max": 2,
            "min": 0,
            "orientation": "horizontal",
            "style": "IPY_MODEL_d436f3e11ba04e0b8e28fb15d1bf15e4",
            "value": 2
          }
        },
        "8f8d53f02c3c42559d0c1baa12a3052f": {
          "model_module": "@jupyter-widgets/controls",
          "model_name": "HTMLModel",
          "model_module_version": "1.5.0",
          "state": {
            "_dom_classes": [],
            "_model_module": "@jupyter-widgets/controls",
            "_model_module_version": "1.5.0",
            "_model_name": "HTMLModel",
            "_view_count": null,
            "_view_module": "@jupyter-widgets/controls",
            "_view_module_version": "1.5.0",
            "_view_name": "HTMLView",
            "description": "",
            "description_tooltip": null,
            "layout": "IPY_MODEL_f4b46003a8a54e69934cbbf7470950db",
            "placeholder": "​",
            "style": "IPY_MODEL_2574e65f4b1644c5a8e42cfadba3b1b5",
            "value": " 2/2 [01:06&lt;00:00, 30.36s/it]"
          }
        },
        "1e45d3a2dcb44256bff14c707f3e29c7": {
          "model_module": "@jupyter-widgets/base",
          "model_name": "LayoutModel",
          "model_module_version": "1.2.0",
          "state": {
            "_model_module": "@jupyter-widgets/base",
            "_model_module_version": "1.2.0",
            "_model_name": "LayoutModel",
            "_view_count": null,
            "_view_module": "@jupyter-widgets/base",
            "_view_module_version": "1.2.0",
            "_view_name": "LayoutView",
            "align_content": null,
            "align_items": null,
            "align_self": null,
            "border": null,
            "bottom": null,
            "display": null,
            "flex": null,
            "flex_flow": null,
            "grid_area": null,
            "grid_auto_columns": null,
            "grid_auto_flow": null,
            "grid_auto_rows": null,
            "grid_column": null,
            "grid_gap": null,
            "grid_row": null,
            "grid_template_areas": null,
            "grid_template_columns": null,
            "grid_template_rows": null,
            "height": null,
            "justify_content": null,
            "justify_items": null,
            "left": null,
            "margin": null,
            "max_height": null,
            "max_width": null,
            "min_height": null,
            "min_width": null,
            "object_fit": null,
            "object_position": null,
            "order": null,
            "overflow": null,
            "overflow_x": null,
            "overflow_y": null,
            "padding": null,
            "right": null,
            "top": null,
            "visibility": null,
            "width": null
          }
        },
        "4cb0a7abee594ef6a5d396e77f9e2e9b": {
          "model_module": "@jupyter-widgets/base",
          "model_name": "LayoutModel",
          "model_module_version": "1.2.0",
          "state": {
            "_model_module": "@jupyter-widgets/base",
            "_model_module_version": "1.2.0",
            "_model_name": "LayoutModel",
            "_view_count": null,
            "_view_module": "@jupyter-widgets/base",
            "_view_module_version": "1.2.0",
            "_view_name": "LayoutView",
            "align_content": null,
            "align_items": null,
            "align_self": null,
            "border": null,
            "bottom": null,
            "display": null,
            "flex": null,
            "flex_flow": null,
            "grid_area": null,
            "grid_auto_columns": null,
            "grid_auto_flow": null,
            "grid_auto_rows": null,
            "grid_column": null,
            "grid_gap": null,
            "grid_row": null,
            "grid_template_areas": null,
            "grid_template_columns": null,
            "grid_template_rows": null,
            "height": null,
            "justify_content": null,
            "justify_items": null,
            "left": null,
            "margin": null,
            "max_height": null,
            "max_width": null,
            "min_height": null,
            "min_width": null,
            "object_fit": null,
            "object_position": null,
            "order": null,
            "overflow": null,
            "overflow_x": null,
            "overflow_y": null,
            "padding": null,
            "right": null,
            "top": null,
            "visibility": null,
            "width": null
          }
        },
        "f74d19a3c56e444b87331c183ccfcada": {
          "model_module": "@jupyter-widgets/controls",
          "model_name": "DescriptionStyleModel",
          "model_module_version": "1.5.0",
          "state": {
            "_model_module": "@jupyter-widgets/controls",
            "_model_module_version": "1.5.0",
            "_model_name": "DescriptionStyleModel",
            "_view_count": null,
            "_view_module": "@jupyter-widgets/base",
            "_view_module_version": "1.2.0",
            "_view_name": "StyleView",
            "description_width": ""
          }
        },
        "e53d45c1dd864a99b3e3005ded723e3b": {
          "model_module": "@jupyter-widgets/base",
          "model_name": "LayoutModel",
          "model_module_version": "1.2.0",
          "state": {
            "_model_module": "@jupyter-widgets/base",
            "_model_module_version": "1.2.0",
            "_model_name": "LayoutModel",
            "_view_count": null,
            "_view_module": "@jupyter-widgets/base",
            "_view_module_version": "1.2.0",
            "_view_name": "LayoutView",
            "align_content": null,
            "align_items": null,
            "align_self": null,
            "border": null,
            "bottom": null,
            "display": null,
            "flex": null,
            "flex_flow": null,
            "grid_area": null,
            "grid_auto_columns": null,
            "grid_auto_flow": null,
            "grid_auto_rows": null,
            "grid_column": null,
            "grid_gap": null,
            "grid_row": null,
            "grid_template_areas": null,
            "grid_template_columns": null,
            "grid_template_rows": null,
            "height": null,
            "justify_content": null,
            "justify_items": null,
            "left": null,
            "margin": null,
            "max_height": null,
            "max_width": null,
            "min_height": null,
            "min_width": null,
            "object_fit": null,
            "object_position": null,
            "order": null,
            "overflow": null,
            "overflow_x": null,
            "overflow_y": null,
            "padding": null,
            "right": null,
            "top": null,
            "visibility": null,
            "width": null
          }
        },
        "d436f3e11ba04e0b8e28fb15d1bf15e4": {
          "model_module": "@jupyter-widgets/controls",
          "model_name": "ProgressStyleModel",
          "model_module_version": "1.5.0",
          "state": {
            "_model_module": "@jupyter-widgets/controls",
            "_model_module_version": "1.5.0",
            "_model_name": "ProgressStyleModel",
            "_view_count": null,
            "_view_module": "@jupyter-widgets/base",
            "_view_module_version": "1.2.0",
            "_view_name": "StyleView",
            "bar_color": null,
            "description_width": ""
          }
        },
        "f4b46003a8a54e69934cbbf7470950db": {
          "model_module": "@jupyter-widgets/base",
          "model_name": "LayoutModel",
          "model_module_version": "1.2.0",
          "state": {
            "_model_module": "@jupyter-widgets/base",
            "_model_module_version": "1.2.0",
            "_model_name": "LayoutModel",
            "_view_count": null,
            "_view_module": "@jupyter-widgets/base",
            "_view_module_version": "1.2.0",
            "_view_name": "LayoutView",
            "align_content": null,
            "align_items": null,
            "align_self": null,
            "border": null,
            "bottom": null,
            "display": null,
            "flex": null,
            "flex_flow": null,
            "grid_area": null,
            "grid_auto_columns": null,
            "grid_auto_flow": null,
            "grid_auto_rows": null,
            "grid_column": null,
            "grid_gap": null,
            "grid_row": null,
            "grid_template_areas": null,
            "grid_template_columns": null,
            "grid_template_rows": null,
            "height": null,
            "justify_content": null,
            "justify_items": null,
            "left": null,
            "margin": null,
            "max_height": null,
            "max_width": null,
            "min_height": null,
            "min_width": null,
            "object_fit": null,
            "object_position": null,
            "order": null,
            "overflow": null,
            "overflow_x": null,
            "overflow_y": null,
            "padding": null,
            "right": null,
            "top": null,
            "visibility": null,
            "width": null
          }
        },
        "2574e65f4b1644c5a8e42cfadba3b1b5": {
          "model_module": "@jupyter-widgets/controls",
          "model_name": "DescriptionStyleModel",
          "model_module_version": "1.5.0",
          "state": {
            "_model_module": "@jupyter-widgets/controls",
            "_model_module_version": "1.5.0",
            "_model_name": "DescriptionStyleModel",
            "_view_count": null,
            "_view_module": "@jupyter-widgets/base",
            "_view_module_version": "1.2.0",
            "_view_name": "StyleView",
            "description_width": ""
          }
        },
        "637b3c89fe9743219f1a80765ecae92a": {
          "model_module": "@jupyter-widgets/controls",
          "model_name": "HBoxModel",
          "model_module_version": "1.5.0",
          "state": {
            "_dom_classes": [],
            "_model_module": "@jupyter-widgets/controls",
            "_model_module_version": "1.5.0",
            "_model_name": "HBoxModel",
            "_view_count": null,
            "_view_module": "@jupyter-widgets/controls",
            "_view_module_version": "1.5.0",
            "_view_name": "HBoxView",
            "box_style": "",
            "children": [
              "IPY_MODEL_deefc188855b42b1819115fc32733da4",
              "IPY_MODEL_0e25a2430ec945d899eae55b108e29b4",
              "IPY_MODEL_0331f726b78f42b8bba35e2b773b77c6"
            ],
            "layout": "IPY_MODEL_9d009345e6f3414c86e4ae03431dc94a"
          }
        },
        "deefc188855b42b1819115fc32733da4": {
          "model_module": "@jupyter-widgets/controls",
          "model_name": "HTMLModel",
          "model_module_version": "1.5.0",
          "state": {
            "_dom_classes": [],
            "_model_module": "@jupyter-widgets/controls",
            "_model_module_version": "1.5.0",
            "_model_name": "HTMLModel",
            "_view_count": null,
            "_view_module": "@jupyter-widgets/controls",
            "_view_module_version": "1.5.0",
            "_view_name": "HTMLView",
            "description": "",
            "description_tooltip": null,
            "layout": "IPY_MODEL_53550954e3854c4bb5eacbc864d290e0",
            "placeholder": "​",
            "style": "IPY_MODEL_929afbfdd7a24095a55aa2592d7651b9",
            "value": "generation_config.json: 100%"
          }
        },
        "0e25a2430ec945d899eae55b108e29b4": {
          "model_module": "@jupyter-widgets/controls",
          "model_name": "FloatProgressModel",
          "model_module_version": "1.5.0",
          "state": {
            "_dom_classes": [],
            "_model_module": "@jupyter-widgets/controls",
            "_model_module_version": "1.5.0",
            "_model_name": "FloatProgressModel",
            "_view_count": null,
            "_view_module": "@jupyter-widgets/controls",
            "_view_module_version": "1.5.0",
            "_view_name": "ProgressView",
            "bar_style": "success",
            "description": "",
            "description_tooltip": null,
            "layout": "IPY_MODEL_832dfebc4dc2415987be44fc88f67182",
            "max": 188,
            "min": 0,
            "orientation": "horizontal",
            "style": "IPY_MODEL_d4fe4429f4784790a715a78de60c7e39",
            "value": 188
          }
        },
        "0331f726b78f42b8bba35e2b773b77c6": {
          "model_module": "@jupyter-widgets/controls",
          "model_name": "HTMLModel",
          "model_module_version": "1.5.0",
          "state": {
            "_dom_classes": [],
            "_model_module": "@jupyter-widgets/controls",
            "_model_module_version": "1.5.0",
            "_model_name": "HTMLModel",
            "_view_count": null,
            "_view_module": "@jupyter-widgets/controls",
            "_view_module_version": "1.5.0",
            "_view_name": "HTMLView",
            "description": "",
            "description_tooltip": null,
            "layout": "IPY_MODEL_9e69a9655f9b40aa9f7fbf074e50c4a4",
            "placeholder": "​",
            "style": "IPY_MODEL_1f95a957255c4f0f9ba54eff7d12a629",
            "value": " 188/188 [00:00&lt;00:00, 11.6kB/s]"
          }
        },
        "9d009345e6f3414c86e4ae03431dc94a": {
          "model_module": "@jupyter-widgets/base",
          "model_name": "LayoutModel",
          "model_module_version": "1.2.0",
          "state": {
            "_model_module": "@jupyter-widgets/base",
            "_model_module_version": "1.2.0",
            "_model_name": "LayoutModel",
            "_view_count": null,
            "_view_module": "@jupyter-widgets/base",
            "_view_module_version": "1.2.0",
            "_view_name": "LayoutView",
            "align_content": null,
            "align_items": null,
            "align_self": null,
            "border": null,
            "bottom": null,
            "display": null,
            "flex": null,
            "flex_flow": null,
            "grid_area": null,
            "grid_auto_columns": null,
            "grid_auto_flow": null,
            "grid_auto_rows": null,
            "grid_column": null,
            "grid_gap": null,
            "grid_row": null,
            "grid_template_areas": null,
            "grid_template_columns": null,
            "grid_template_rows": null,
            "height": null,
            "justify_content": null,
            "justify_items": null,
            "left": null,
            "margin": null,
            "max_height": null,
            "max_width": null,
            "min_height": null,
            "min_width": null,
            "object_fit": null,
            "object_position": null,
            "order": null,
            "overflow": null,
            "overflow_x": null,
            "overflow_y": null,
            "padding": null,
            "right": null,
            "top": null,
            "visibility": null,
            "width": null
          }
        },
        "53550954e3854c4bb5eacbc864d290e0": {
          "model_module": "@jupyter-widgets/base",
          "model_name": "LayoutModel",
          "model_module_version": "1.2.0",
          "state": {
            "_model_module": "@jupyter-widgets/base",
            "_model_module_version": "1.2.0",
            "_model_name": "LayoutModel",
            "_view_count": null,
            "_view_module": "@jupyter-widgets/base",
            "_view_module_version": "1.2.0",
            "_view_name": "LayoutView",
            "align_content": null,
            "align_items": null,
            "align_self": null,
            "border": null,
            "bottom": null,
            "display": null,
            "flex": null,
            "flex_flow": null,
            "grid_area": null,
            "grid_auto_columns": null,
            "grid_auto_flow": null,
            "grid_auto_rows": null,
            "grid_column": null,
            "grid_gap": null,
            "grid_row": null,
            "grid_template_areas": null,
            "grid_template_columns": null,
            "grid_template_rows": null,
            "height": null,
            "justify_content": null,
            "justify_items": null,
            "left": null,
            "margin": null,
            "max_height": null,
            "max_width": null,
            "min_height": null,
            "min_width": null,
            "object_fit": null,
            "object_position": null,
            "order": null,
            "overflow": null,
            "overflow_x": null,
            "overflow_y": null,
            "padding": null,
            "right": null,
            "top": null,
            "visibility": null,
            "width": null
          }
        },
        "929afbfdd7a24095a55aa2592d7651b9": {
          "model_module": "@jupyter-widgets/controls",
          "model_name": "DescriptionStyleModel",
          "model_module_version": "1.5.0",
          "state": {
            "_model_module": "@jupyter-widgets/controls",
            "_model_module_version": "1.5.0",
            "_model_name": "DescriptionStyleModel",
            "_view_count": null,
            "_view_module": "@jupyter-widgets/base",
            "_view_module_version": "1.2.0",
            "_view_name": "StyleView",
            "description_width": ""
          }
        },
        "832dfebc4dc2415987be44fc88f67182": {
          "model_module": "@jupyter-widgets/base",
          "model_name": "LayoutModel",
          "model_module_version": "1.2.0",
          "state": {
            "_model_module": "@jupyter-widgets/base",
            "_model_module_version": "1.2.0",
            "_model_name": "LayoutModel",
            "_view_count": null,
            "_view_module": "@jupyter-widgets/base",
            "_view_module_version": "1.2.0",
            "_view_name": "LayoutView",
            "align_content": null,
            "align_items": null,
            "align_self": null,
            "border": null,
            "bottom": null,
            "display": null,
            "flex": null,
            "flex_flow": null,
            "grid_area": null,
            "grid_auto_columns": null,
            "grid_auto_flow": null,
            "grid_auto_rows": null,
            "grid_column": null,
            "grid_gap": null,
            "grid_row": null,
            "grid_template_areas": null,
            "grid_template_columns": null,
            "grid_template_rows": null,
            "height": null,
            "justify_content": null,
            "justify_items": null,
            "left": null,
            "margin": null,
            "max_height": null,
            "max_width": null,
            "min_height": null,
            "min_width": null,
            "object_fit": null,
            "object_position": null,
            "order": null,
            "overflow": null,
            "overflow_x": null,
            "overflow_y": null,
            "padding": null,
            "right": null,
            "top": null,
            "visibility": null,
            "width": null
          }
        },
        "d4fe4429f4784790a715a78de60c7e39": {
          "model_module": "@jupyter-widgets/controls",
          "model_name": "ProgressStyleModel",
          "model_module_version": "1.5.0",
          "state": {
            "_model_module": "@jupyter-widgets/controls",
            "_model_module_version": "1.5.0",
            "_model_name": "ProgressStyleModel",
            "_view_count": null,
            "_view_module": "@jupyter-widgets/base",
            "_view_module_version": "1.2.0",
            "_view_name": "StyleView",
            "bar_color": null,
            "description_width": ""
          }
        },
        "9e69a9655f9b40aa9f7fbf074e50c4a4": {
          "model_module": "@jupyter-widgets/base",
          "model_name": "LayoutModel",
          "model_module_version": "1.2.0",
          "state": {
            "_model_module": "@jupyter-widgets/base",
            "_model_module_version": "1.2.0",
            "_model_name": "LayoutModel",
            "_view_count": null,
            "_view_module": "@jupyter-widgets/base",
            "_view_module_version": "1.2.0",
            "_view_name": "LayoutView",
            "align_content": null,
            "align_items": null,
            "align_self": null,
            "border": null,
            "bottom": null,
            "display": null,
            "flex": null,
            "flex_flow": null,
            "grid_area": null,
            "grid_auto_columns": null,
            "grid_auto_flow": null,
            "grid_auto_rows": null,
            "grid_column": null,
            "grid_gap": null,
            "grid_row": null,
            "grid_template_areas": null,
            "grid_template_columns": null,
            "grid_template_rows": null,
            "height": null,
            "justify_content": null,
            "justify_items": null,
            "left": null,
            "margin": null,
            "max_height": null,
            "max_width": null,
            "min_height": null,
            "min_width": null,
            "object_fit": null,
            "object_position": null,
            "order": null,
            "overflow": null,
            "overflow_x": null,
            "overflow_y": null,
            "padding": null,
            "right": null,
            "top": null,
            "visibility": null,
            "width": null
          }
        },
        "1f95a957255c4f0f9ba54eff7d12a629": {
          "model_module": "@jupyter-widgets/controls",
          "model_name": "DescriptionStyleModel",
          "model_module_version": "1.5.0",
          "state": {
            "_model_module": "@jupyter-widgets/controls",
            "_model_module_version": "1.5.0",
            "_model_name": "DescriptionStyleModel",
            "_view_count": null,
            "_view_module": "@jupyter-widgets/base",
            "_view_module_version": "1.2.0",
            "_view_name": "StyleView",
            "description_width": ""
          }
        }
      }
    },
    "accelerator": "GPU"
  },
  "nbformat": 4,
  "nbformat_minor": 0
}